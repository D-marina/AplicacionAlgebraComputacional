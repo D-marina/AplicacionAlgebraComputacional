{
 "cells": [
  {
   "cell_type": "markdown",
   "metadata": {},
   "source": [
    "# Ejercicios Gröbner"
   ]
  },
  {
   "cell_type": "markdown",
   "metadata": {},
   "source": [
    "## Daniel Marín Aragón"
   ]
  },
  {
   "cell_type": "markdown",
   "metadata": {},
   "source": [
    "**1. Fijado el orden lexicográfico con $x>y>z>t$, el monomio de mayor orden es:**\n",
    "\n",
    "a) $x^2yz$.\n",
    "\n",
    "b) $xy^5t$.\n",
    "\n",
    "c) $yzt^6$.\n",
    "\n",
    "d) $x^3$."
   ]
  },
  {
   "cell_type": "code",
   "execution_count": 1,
   "metadata": {
    "collapsed": true
   },
   "outputs": [],
   "source": [
    "# Esta función devuelve True si b<a y False en caso contrario\n",
    "def OrdenLexicografico(b,a):\n",
    "    aux = [x-y for x,y in zip(a,b)]\n",
    "    n = len(aux)\n",
    "    for i in range(n):\n",
    "        if(aux[i] != 0):\n",
    "            if(aux[i] > 0):\n",
    "                return(True)\n",
    "            else:\n",
    "                return(False)\n",
    "    return(True)"
   ]
  },
  {
   "cell_type": "code",
   "execution_count": 4,
   "metadata": {
    "collapsed": true
   },
   "outputs": [],
   "source": [
    "def Maximo(lista,orden):\n",
    "    n = len(lista)\n",
    "    aux = lista[0]\n",
    "    for i in range(n-1):\n",
    "        if(orden(aux,lista[i+1])):\n",
    "            aux = lista[i+1]\n",
    "    return(aux)"
   ]
  },
  {
   "cell_type": "code",
   "execution_count": 5,
   "metadata": {
    "collapsed": false
   },
   "outputs": [
    {
     "data": {
      "text/plain": [
       "[3, 0, 0, 0]"
      ]
     },
     "execution_count": 5,
     "metadata": {},
     "output_type": "execute_result"
    }
   ],
   "source": [
    "Maximo([[2,1,1,0],[1,5,0,1],[0,1,1,6],[3,0,0,0]],OrdenLexicografico)"
   ]
  },
  {
   "cell_type": "markdown",
   "metadata": {},
   "source": [
    "El mayor monomio es d) $x^3$."
   ]
  },
  {
   "cell_type": "markdown",
   "metadata": {},
   "source": [
    "**2. Fijado el orden lexicográfico graduado con $x>y>z>t$, el monomio de mayor orden es:**\n",
    "\n",
    "a) $x^2yz$.\n",
    "\n",
    "b) $xy^5t$.\n",
    "\n",
    "c) $yzt^6$.\n",
    "\n",
    "d) $x^3$."
   ]
  },
  {
   "cell_type": "code",
   "execution_count": 43,
   "metadata": {
    "collapsed": false
   },
   "outputs": [],
   "source": [
    "# Esta función devuelve True si b<a y False en caso contrario.\n",
    "def OrdenLexicograficoGraduado(b,a):\n",
    "    sumA = sum(a)\n",
    "    sumB = sum(b)\n",
    "    if(sumA == 0):\n",
    "        return(False)\n",
    "    if(sumB<sumA):\n",
    "        return(True)\n",
    "    if(sumA == sumB and OrdenLexicografico(b,a)):\n",
    "        return(True)\n",
    "    else:\n",
    "        return(False)"
   ]
  },
  {
   "cell_type": "code",
   "execution_count": 45,
   "metadata": {
    "collapsed": false
   },
   "outputs": [
    {
     "data": {
      "text/plain": [
       "[0, 1, 1, 6]"
      ]
     },
     "execution_count": 45,
     "metadata": {},
     "output_type": "execute_result"
    }
   ],
   "source": [
    "Maximo([[2,1,1,0],[1,5,0,1],[0,1,1,6],[3,0,0,0]],OrdenLexicograficoGraduado)"
   ]
  },
  {
   "cell_type": "markdown",
   "metadata": {},
   "source": [
    "El mayor monomio es c) $yzt^6$."
   ]
  },
  {
   "cell_type": "markdown",
   "metadata": {},
   "source": [
    "**3. Fijado el orden lexicográfico graduado con $x>y>z>t$, ordenar, de mayor a menor los siguientes monomios:**\n",
    "$$x^2yz,xy^5t,yzt^6,x^3.$$"
   ]
  },
  {
   "cell_type": "code",
   "execution_count": 9,
   "metadata": {
    "collapsed": true
   },
   "outputs": [],
   "source": [
    "def Ordenar(Lista,orden):\n",
    "    lista = [x for x in Lista]\n",
    "    n = len(lista)\n",
    "    laux = []\n",
    "    for i in range(n):\n",
    "        aux = Maximo(lista,orden)\n",
    "        laux.append(aux)\n",
    "        lista.remove(aux)\n",
    "    return(laux)\n",
    "    "
   ]
  },
  {
   "cell_type": "code",
   "execution_count": 46,
   "metadata": {
    "collapsed": false
   },
   "outputs": [
    {
     "data": {
      "text/plain": [
       "[[0, 1, 1, 6], [1, 5, 0, 1], [2, 1, 1, 0], [3, 0, 0, 0]]"
      ]
     },
     "execution_count": 46,
     "metadata": {},
     "output_type": "execute_result"
    }
   ],
   "source": [
    "Ordenar([[2,1,1,0],[1,5,0,1],[0,1,1,6],[3,0,0,0]],OrdenLexicograficoGraduado)"
   ]
  },
  {
   "cell_type": "markdown",
   "metadata": {},
   "source": [
    "Los monomios ordenados son: $yzt^6 > xy^5t > x^2yz > x^3$."
   ]
  },
  {
   "cell_type": "markdown",
   "metadata": {},
   "source": [
    "**4. Fijado el orden lexicográfico con $x>y>z>t$, ordenar, de mayor a menor los siguientes monomios:**\n",
    "$$x^2yz,xy^5t,yzt^6,x^3.$$"
   ]
  },
  {
   "cell_type": "code",
   "execution_count": 11,
   "metadata": {
    "collapsed": false
   },
   "outputs": [
    {
     "data": {
      "text/plain": [
       "[[3, 0, 0, 0], [2, 1, 1, 0], [1, 5, 0, 1], [0, 1, 1, 6]]"
      ]
     },
     "execution_count": 11,
     "metadata": {},
     "output_type": "execute_result"
    }
   ],
   "source": [
    "Ordenar([[2,1,1,0],[1,5,0,1],[0,1,1,6],[3,0,0,0]],OrdenLexicografico)"
   ]
  },
  {
   "cell_type": "markdown",
   "metadata": {},
   "source": [
    "\n",
    "Los monomios ordenados son: $x^3 > x^2yz > xy^5t > yzt^6$."
   ]
  },
  {
   "cell_type": "markdown",
   "metadata": {},
   "source": [
    "**5. Fijado el orden lexicográfico con $x>y>z>t$, calcular la base de Gröbner reducida de**\n",
    "$$\\{x^2y-2x^2-y+2,txz^3-tx-3tz^3+3t,ty^4-16t\\}$$\n",
    "**respecto a dicho orden.**"
   ]
  },
  {
   "cell_type": "markdown",
   "metadata": {},
   "source": [
    "Con el fin poder usar las funciones disponibles en *sympy*, en particular los órdenes monoidales, haremos el siguiente cambio de variables:\n",
    "$$x=a,\\quad y=b,\\quad z=c, \\quad t=d.$$\n",
    "Así, los polinomios que tenemos serían:\n",
    "$$f_1(a,b,c,d) = a^2b-2x^2-b+2$$\n",
    "$$f_2(a,b,c,d) = ac^3d-ad-3c^3d+3d$$\n",
    "$$f_3(a,b,c,d) = b^4d-16d$$"
   ]
  },
  {
   "cell_type": "code",
   "execution_count": 1,
   "metadata": {
    "collapsed": true
   },
   "outputs": [],
   "source": [
    "import sympy\n",
    "from sympy import symbols,div,lcm,LC,LM,expand\n",
    "\n",
    "a,b,c,d = symbols('a,b,c,d')"
   ]
  },
  {
   "cell_type": "code",
   "execution_count": 2,
   "metadata": {
    "collapsed": false
   },
   "outputs": [],
   "source": [
    "# Esta función calcula el S polinomio.\n",
    "def Spolinomio(f,g,orden):\n",
    "    ca = LC(f,order=orden)\n",
    "    xa = LM(f,order=orden)\n",
    "    cb = LC(g,order=orden)\n",
    "    xb = LM(g,order=orden)\n",
    "    cxm=lcm(ca*xa,cb*xb,order=orden)\n",
    "    s = div(cxm,ca*xa,order=orden)[0]*f - div(cxm,cb*xb,order=orden)[0]*g\n",
    "    return(expand(s))"
   ]
  },
  {
   "cell_type": "code",
   "execution_count": 3,
   "metadata": {
    "collapsed": false
   },
   "outputs": [
    {
     "data": {
      "text/plain": [
       "-2*a**2 + 4*a*b**3 + a*b"
      ]
     },
     "execution_count": 3,
     "metadata": {},
     "output_type": "execute_result"
    }
   ],
   "source": [
    "Spolinomio(2*a**2*b+4*a*b**2+a,b**2+1,'lex')"
   ]
  },
  {
   "cell_type": "code",
   "execution_count": 13,
   "metadata": {
    "collapsed": false
   },
   "outputs": [],
   "source": [
    "# Esta función calcula una base de Gröbner a partir de una familia de polinomios.\n",
    "def Grobner(fam,orden):\n",
    "    familia = [fam[i] for i in range(len(fam))]\n",
    "    continuar = True\n",
    "    k=0\n",
    "    while(continuar and k<1):\n",
    "        k = k+1\n",
    "        continuar = False\n",
    "        n = len(familia)\n",
    "        for i in range(n):\n",
    "            for j in range (i+1,n):\n",
    "                sp = Spolinomio(familia[i],familia[j],orden)\n",
    "                print('Antes de hacer nada, sp es ', sp)\n",
    "                for k in range(n):\n",
    "                    sp = div(sp,familia[k],order=orden)[1]\n",
    "                print(\"Tras dividirlo, sp se convierte en: \",sp)\n",
    "                if(sp != 0):\n",
    "                    familia.append(sp)\n",
    "                    continuar = True\n",
    "    return(familia)\n",
    "                        "
   ]
  },
  {
   "cell_type": "code",
   "execution_count": 14,
   "metadata": {
    "collapsed": false
   },
   "outputs": [
    {
     "name": "stdout",
     "output_type": "stream",
     "text": [
      "Antes de hacer nada, sp es  a**2*b - 2*a**2 - a*b**2 + 2*a - b**2 + b\n",
      "Tras dividirlo, sp se convierte en:  a**2*b - 2*a**2 - a*b**2 + 2*a - b**2 + b\n"
     ]
    },
    {
     "data": {
      "text/plain": [
       "[a*b**2 - 2*a - b**2 + 2,\n",
       " a**2*b - a**2 + b - 1,\n",
       " a**2*b - 2*a**2 - a*b**2 + 2*a - b**2 + b]"
      ]
     },
     "execution_count": 14,
     "metadata": {},
     "output_type": "execute_result"
    }
   ],
   "source": [
    "Grobner([a*b**2-2*a-b**2+2,a**2*b-a**2+b-1],'lex')"
   ]
  },
  {
   "cell_type": "code",
   "execution_count": 30,
   "metadata": {
    "collapsed": false
   },
   "outputs": [
    {
     "data": {
      "text/plain": [
       "(0, a*b + a*c + b*c)"
      ]
     },
     "execution_count": 30,
     "metadata": {},
     "output_type": "execute_result"
    }
   ],
   "source": [
    "div(a*b+b*c+a*c, 2*b+1,a,b,c)"
   ]
  },
  {
   "cell_type": "code",
   "execution_count": 36,
   "metadata": {
    "collapsed": false
   },
   "outputs": [
    {
     "data": {
      "text/plain": [
       "(b + c, b*c - b - c)"
      ]
     },
     "execution_count": 36,
     "metadata": {},
     "output_type": "execute_result"
    }
   ],
   "source": [
    "div(a*b+b*c+a*c, a+1)"
   ]
  },
  {
   "cell_type": "code",
   "execution_count": 23,
   "metadata": {
    "collapsed": false
   },
   "outputs": [
    {
     "data": {
      "text/plain": [
       "(0, a**2*b - 2*a**2 - a*b**2 + 2*a - b**2 + b)"
      ]
     },
     "execution_count": 23,
     "metadata": {},
     "output_type": "execute_result"
    }
   ],
   "source": [
    "div(a**2*b - 2*a**2 - a*b**2 + 2*a - b**2 + b, a**2*b,order = 'lex')"
   ]
  },
  {
   "cell_type": "markdown",
   "metadata": {},
   "source": [
    "**6. Fijado el orden lexicográfico con $x>y>z>t$, calcular la base de Gröber reducida de**\n",
    "$$\\{x^2z-2x^2-z+2,xy^3-x,t^2y^4x^3-t^2y^4-16x^3+16\\}$$\n",
    "**respecto a dicho orden.**"
   ]
  },
  {
   "cell_type": "markdown",
   "metadata": {},
   "source": [
    "**7. Fijado el orden lexicográfico gradudado con $x>y>z>t$, calcular la base de Gröber reducida de**\n",
    "$$\\{x^2z-2x^2-z+2,xy^3-x,t^2y^4x^3-t^2y^4-16x^3+16\\}$$\n",
    "**respecto a dicho orden.**"
   ]
  },
  {
   "cell_type": "markdown",
   "metadata": {},
   "source": [
    "**8. ¿Cuántas soluciones tiene el sistema**\n",
    "$$\\{x^2y-2x^2-y+2=0,$$\n",
    "$$txz^3-tx-3tz^3+3t=0,$$\n",
    "$$ty^4-16t=0\\}?$$"
   ]
  },
  {
   "cell_type": "markdown",
   "metadata": {},
   "source": [
    "**9. ¿Cuántas soluciones tiene el sistema**\n",
    "$$\\{x^2zy+2x^2-zy-2=0,$$\n",
    "$$z^3xy-3z^3-2xy+6=0,$$\n",
    "$$y^4-16=0\\}?$$"
   ]
  },
  {
   "cell_type": "markdown",
   "metadata": {},
   "source": [
    "**10. ¿Cuántas soluciones tiene el sistema**\n",
    "$$\\{x^2zy+2x^2-zy-2=0,$$\n",
    "$$z^2xy-3z^2-xy+3=0,$$\n",
    "$$y^2-16=0\\}?$$"
   ]
  },
  {
   "cell_type": "markdown",
   "metadata": {},
   "source": [
    "**11. En el ideal generado por**\n",
    "$$\\{x^2zy+2x^2-zy-2,z^3xy-3z^3-2xy+6,y^4-16\\},$$\n",
    "**¿hay algún polinoio sólo en la variable $x$?**"
   ]
  },
  {
   "cell_type": "markdown",
   "metadata": {},
   "source": [
    "**12. En el ideal generado por**\n",
    "$$x^2y-2x^2-y+2,txz^3-tx+3tz^3+3t,ty^4-16t\\},$$\n",
    "**¿hay algún polinomio sólo en la variable $t$?**"
   ]
  },
  {
   "cell_type": "markdown",
   "metadata": {},
   "source": [
    "**13. Resolver el sistema**\n",
    "$$\\{x^2zy+2x^2-zy-2=0,$$\n",
    "$$z^2xy-3z^2-xy+3=0,$$\n",
    "$$y^2-16=0\\}.$$"
   ]
  }
 ],
 "metadata": {
  "kernelspec": {
   "display_name": "Python 3",
   "language": "python",
   "name": "python3"
  },
  "language_info": {
   "codemirror_mode": {
    "name": "ipython",
    "version": 3
   },
   "file_extension": ".py",
   "mimetype": "text/x-python",
   "name": "python",
   "nbconvert_exporter": "python",
   "pygments_lexer": "ipython3",
   "version": "3.5.1"
  }
 },
 "nbformat": 4,
 "nbformat_minor": 2
}
