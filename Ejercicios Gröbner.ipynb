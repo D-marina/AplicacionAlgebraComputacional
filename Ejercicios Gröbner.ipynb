{
 "cells": [
  {
   "cell_type": "markdown",
   "metadata": {},
   "source": [
    "# Ejercicios Gröbner"
   ]
  },
  {
   "cell_type": "markdown",
   "metadata": {},
   "source": [
    "## Daniel Marín Aragón"
   ]
  },
  {
   "cell_type": "markdown",
   "metadata": {},
   "source": [
    "**1. Fijado el orden lexicográfico con $x>y>z>t$, el monomio de mayor orden es:**\n",
    "\n",
    "a) $x^2yz$.\n",
    "\n",
    "b) $xy^5t$.\n",
    "\n",
    "c) $yzt^6$.\n",
    "\n",
    "d) $x^3$."
   ]
  },
  {
   "cell_type": "code",
   "execution_count": 30,
   "metadata": {
    "collapsed": true
   },
   "outputs": [],
   "source": [
    "# Esta función devuelve True si b<a y False en caso contrario\n",
    "def OrdenLexicografico(b,a):\n",
    "    aux = [x-y for x,y in zip(a,b)]\n",
    "    n = len(aux)\n",
    "    for i in range(n):\n",
    "        if(aux[i] != 0):\n",
    "            if(aux[i] > 0):\n",
    "                return(True)\n",
    "            else:\n",
    "                return(False)\n",
    "    return(True)"
   ]
  },
  {
   "cell_type": "code",
   "execution_count": 31,
   "metadata": {
    "collapsed": true
   },
   "outputs": [],
   "source": [
    "def Maximo(lista,orden):\n",
    "    n = len(lista)\n",
    "    aux = lista[0]\n",
    "    for i in range(n-1):\n",
    "        if(orden(aux,lista[i+1])):\n",
    "            aux = lista[i+1]\n",
    "    return(aux)"
   ]
  },
  {
   "cell_type": "code",
   "execution_count": 32,
   "metadata": {
    "collapsed": false
   },
   "outputs": [
    {
     "data": {
      "text/plain": [
       "[3, 0, 0, 0]"
      ]
     },
     "execution_count": 32,
     "metadata": {},
     "output_type": "execute_result"
    }
   ],
   "source": [
    "Maximo([[2,1,1,0],[1,5,0,1],[0,1,1,6],[3,0,0,0]],OrdenLexicografico)"
   ]
  },
  {
   "cell_type": "markdown",
   "metadata": {},
   "source": [
    "El mayor monomio es d) $x^3$."
   ]
  },
  {
   "cell_type": "markdown",
   "metadata": {},
   "source": [
    "**2. Fijado el orden lexicográfico graduado con $x>y>z>t$, el monomio de mayor orden es:**\n",
    "\n",
    "a) $x^2yz$.\n",
    "\n",
    "b) $xy^5t$.\n",
    "\n",
    "c) $yzt^6$.\n",
    "\n",
    "d) $x^3$."
   ]
  },
  {
   "cell_type": "code",
   "execution_count": 33,
   "metadata": {
    "collapsed": false
   },
   "outputs": [],
   "source": [
    "# Esta función devuelve True si b<a y False en caso contrario.\n",
    "def OrdenLexicograficoGraduado(b,a):\n",
    "    sumA = sum(a)\n",
    "    sumB = sum(b)\n",
    "    if(sumA == 0):\n",
    "        return(False)\n",
    "    if(sumB<sumA):\n",
    "        return(True)\n",
    "    if(sumA == sumB and OrdenLexicografico(b,a)):\n",
    "        return(True)\n",
    "    else:\n",
    "        return(False)"
   ]
  },
  {
   "cell_type": "code",
   "execution_count": 45,
   "metadata": {
    "collapsed": false
   },
   "outputs": [
    {
     "data": {
      "text/plain": [
       "[0, 1, 1, 6]"
      ]
     },
     "execution_count": 45,
     "metadata": {},
     "output_type": "execute_result"
    }
   ],
   "source": [
    "Maximo([[2,1,1,0],[1,5,0,1],[0,1,1,6],[3,0,0,0]],OrdenLexicograficoGraduado)"
   ]
  },
  {
   "cell_type": "markdown",
   "metadata": {},
   "source": [
    "El mayor monomio es c) $yzt^6$."
   ]
  },
  {
   "cell_type": "markdown",
   "metadata": {},
   "source": [
    "**3. Fijado el orden lexicográfico graduado con $x>y>z>t$, ordenar, de mayor a menor los siguientes monomios:**\n",
    "$$x^2yz,xy^5t,yzt^6,x^3.$$"
   ]
  },
  {
   "cell_type": "code",
   "execution_count": 34,
   "metadata": {
    "collapsed": true
   },
   "outputs": [],
   "source": [
    "def Ordenar(Lista,orden):\n",
    "    lista = [x for x in Lista]\n",
    "    n = len(lista)\n",
    "    laux = []\n",
    "    for i in range(n):\n",
    "        aux = Maximo(lista,orden)\n",
    "        laux.append(aux)\n",
    "        lista.remove(aux)\n",
    "    return(laux)\n",
    "    "
   ]
  },
  {
   "cell_type": "code",
   "execution_count": 46,
   "metadata": {
    "collapsed": false
   },
   "outputs": [
    {
     "data": {
      "text/plain": [
       "[[0, 1, 1, 6], [1, 5, 0, 1], [2, 1, 1, 0], [3, 0, 0, 0]]"
      ]
     },
     "execution_count": 46,
     "metadata": {},
     "output_type": "execute_result"
    }
   ],
   "source": [
    "Ordenar([[2,1,1,0],[1,5,0,1],[0,1,1,6],[3,0,0,0]],OrdenLexicograficoGraduado)"
   ]
  },
  {
   "cell_type": "markdown",
   "metadata": {},
   "source": [
    "Los monomios ordenados son: $yzt^6 > xy^5t > x^2yz > x^3$."
   ]
  },
  {
   "cell_type": "markdown",
   "metadata": {},
   "source": [
    "**4. Fijado el orden lexicográfico con $x>y>z>t$, ordenar, de mayor a menor los siguientes monomios:**\n",
    "$$x^2yz,xy^5t,yzt^6,x^3.$$"
   ]
  },
  {
   "cell_type": "code",
   "execution_count": 11,
   "metadata": {
    "collapsed": false
   },
   "outputs": [
    {
     "data": {
      "text/plain": [
       "[[3, 0, 0, 0], [2, 1, 1, 0], [1, 5, 0, 1], [0, 1, 1, 6]]"
      ]
     },
     "execution_count": 11,
     "metadata": {},
     "output_type": "execute_result"
    }
   ],
   "source": [
    "Ordenar([[2,1,1,0],[1,5,0,1],[0,1,1,6],[3,0,0,0]],OrdenLexicografico)"
   ]
  },
  {
   "cell_type": "markdown",
   "metadata": {},
   "source": [
    "\n",
    "Los monomios ordenados son: $x^3 > x^2yz > xy^5t > yzt^6$."
   ]
  },
  {
   "cell_type": "markdown",
   "metadata": {},
   "source": [
    "**5. Fijado el orden lexicográfico con $x>y>z>t$, calcular la base de Gröbner reducida de**\n",
    "$$\\{x^2y-2x^2-y+2,txz^3-tx-3tz^3+3t,ty^4-16t\\}$$\n",
    "**respecto a dicho orden.**"
   ]
  },
  {
   "cell_type": "markdown",
   "metadata": {},
   "source": [
    "Con el fin poder usar las funciones disponibles en *sympy*, en particular los órdenes monoidales, haremos el siguiente cambio de variables:\n",
    "$$x=a,\\quad y=b,\\quad z=c, \\quad t=d.$$\n",
    "Así, los polinomios que tenemos serían:\n",
    "$$f_1(a,b,c,d) = a^2b-2x^2-b+2$$\n",
    "$$f_2(a,b,c,d) = ac^3d-ad-3c^3d+3d$$\n",
    "$$f_3(a,b,c,d) = b^4d-16d$$"
   ]
  },
  {
   "cell_type": "code",
   "execution_count": 433,
   "metadata": {
    "collapsed": false
   },
   "outputs": [],
   "source": [
    "import sympy\n",
    "from sympy import symbols,div,lcm,LC,LM,expand,monic,degree_list,groebner\n",
    "a,b,c,d = symbols('a,b,c,d')"
   ]
  },
  {
   "cell_type": "code",
   "execution_count": 158,
   "metadata": {
    "collapsed": false
   },
   "outputs": [],
   "source": [
    "# Esta función calcula el S polinomio.\n",
    "# NOTA: las variables son a,b,c,d.\n",
    "def Spolinomio(f,g,orden):\n",
    "    fcte = False\n",
    "    gcte = False\n",
    "    if(list(degree_list(f,[a,b,c,d]))==[0,0,0,0]):\n",
    "        fcte = True\n",
    "    if(list(degree_list(g,[a,b,c,d]))==[0,0,0,0]):\n",
    "        gcte = True\n",
    "    if(fcte):\n",
    "        ca = f\n",
    "        xa = 1\n",
    "    else:\n",
    "        ca = LC(f,order=orden)\n",
    "        xa = LM(f,order=orden)\n",
    "    if(gcte):\n",
    "        cb = g\n",
    "        xb = 1\n",
    "    else:\n",
    "        cb = LC(g,order=orden)\n",
    "        xb = LM(g,order=orden)\n",
    "    cxm=lcm(ca*xa,cb*xb,order=orden)\n",
    "    s = div(cxm,ca*xa,order=orden)[0]*f - div(cxm,cb*xb,order=orden)[0]*g\n",
    "    return(expand(s))"
   ]
  },
  {
   "cell_type": "code",
   "execution_count": 361,
   "metadata": {
    "collapsed": false
   },
   "outputs": [
    {
     "data": {
      "text/plain": [
       "a**2*b**2 + 2*a**2*b - 2*a**2 + 2*b**5 - 3*b**3"
      ]
     },
     "execution_count": 361,
     "metadata": {},
     "output_type": "execute_result"
    }
   ],
   "source": [
    "Spolinomio(a**2 + 2*b**2 - 3, b**3 - b**2 - 2*b + 2,'lex')"
   ]
  },
  {
   "cell_type": "code",
   "execution_count": 3,
   "metadata": {
    "collapsed": false
   },
   "outputs": [
    {
     "data": {
      "text/plain": [
       "-2*a**2 + 4*a*b**3 + a*b"
      ]
     },
     "execution_count": 3,
     "metadata": {},
     "output_type": "execute_result"
    }
   ],
   "source": [
    "Spolinomio(2*a**2*b+4*a*b**2+a,b**2+1,'lex')"
   ]
  },
  {
   "cell_type": "code",
   "execution_count": 248,
   "metadata": {
    "collapsed": false
   },
   "outputs": [],
   "source": [
    "# Esta función nos permite ordenar los polinomios según sus coeficientes líderes.\n",
    "# NOTA: las variables son a,b,c,d.\n",
    "def OrdenarPolinomios(famaux,orden):\n",
    "    n = len(famaux)\n",
    "    fam = [x for x in famaux]\n",
    "    constantes = []\n",
    "    # Quitamos los polinomios constantes\n",
    "    for i in range(n):\n",
    "        if(list(degree_list(fam[i],[a,b,c,d]))==[0,0,0,0]):\n",
    "            constantes.append(fam[i])\n",
    "    fam = [x for x in fam if x not in constantes]\n",
    "            #fam.remove(fam[i])\n",
    "    # Hacemos una matriz con coeficientes líderes & polinomios.\n",
    "    n = len(fam)\n",
    "    lista = [[LM(fam[i],order=orden),fam[i] ] for i in range(n)]\n",
    "    laux = []\n",
    "    for i in range(n):\n",
    "        # Hacemos una lista con los coeficientes líderes.\n",
    "        listacoeflid = [j[0] for j in lista]\n",
    "        # Hacemos un polinomio con los coeficientes líderes.\n",
    "        polider = sum(listacoeflid)\n",
    "        # Buscamos su máximo.\n",
    "        aux = LM(polider,order=orden)\n",
    "        # Guardamos su posición.\n",
    "        posaux = listacoeflid.index(aux)\n",
    "        # Añadimos el polinomio a una lista auxiliar\n",
    "        laux.append(lista[posaux][1])\n",
    "        lista.remove([aux,lista[posaux][1]])\n",
    "    return(laux+constantes)"
   ]
  },
  {
   "cell_type": "code",
   "execution_count": 400,
   "metadata": {
    "collapsed": false
   },
   "outputs": [],
   "source": [
    "# Esta función fuerza la división, devolviendo el resto.\n",
    "# NOTA: las variables son a,b,c,d.\n",
    "def DivF(faux,gaux,orden):\n",
    "    continuar = True\n",
    "    f = faux\n",
    "    g = gaux\n",
    "    fcte = False\n",
    "    gcte = False\n",
    "    while(continuar):\n",
    "        # En primer lugar vemos si f y g son constantes.\n",
    "        if(f == 0 or g == 0):\n",
    "            return(0)\n",
    "        if(list(degree_list(f,[a,b,c,d]))==[0,0,0,0]):\n",
    "            fcte = True\n",
    "        if(list(degree_list(g,[a,b,c,d]))==[0,0,0,0]):\n",
    "            gcte = True\n",
    "        if(fcte and gcte):\n",
    "            continuar = False\n",
    "            f = 0\n",
    "            continue\n",
    "        if(fcte or gcte):\n",
    "            continuar = False\n",
    "            continue\n",
    "        ca = LC(f,order=orden)\n",
    "        xa = LM(f,order=orden)\n",
    "        cb = LC(g,order=orden)\n",
    "        xb = LM(g,order=orden)\n",
    "        q,r = div(ca*xa,cb*xb,order=orden)\n",
    "        if(r == 0):\n",
    "            f = expand(faux-q*gaux)\n",
    "            continuar = False\n",
    "        else:\n",
    "            f = f-ca*xa\n",
    "        if(f == 0):\n",
    "            continuar = False\n",
    "        else:\n",
    "            if(list(degree_list(f,[a,b,c,d]))==[0,0,0,0]):\n",
    "                continuar = False\n",
    "                f = faux\n",
    "    return(expand(f))"
   ]
  },
  {
   "cell_type": "code",
   "execution_count": 401,
   "metadata": {
    "collapsed": false
   },
   "outputs": [
    {
     "data": {
      "text/plain": [
       "0"
      ]
     },
     "execution_count": 401,
     "metadata": {},
     "output_type": "execute_result"
    }
   ],
   "source": [
    "DivF(2*b**5 - 6*b**3 + 4*b ,   b**4 - 3*b**2 + 2,'lex')"
   ]
  },
  {
   "cell_type": "code",
   "execution_count": 402,
   "metadata": {
    "collapsed": false
   },
   "outputs": [
    {
     "data": {
      "text/plain": [
       "(0, a**2*b - 2*a**2 - a*b**2 + 2*a - b**2 + b)"
      ]
     },
     "execution_count": 402,
     "metadata": {},
     "output_type": "execute_result"
    }
   ],
   "source": [
    "div(a**2*b - 2*a**2 - a*b**2 + 2*a - b**2 + b,a**2*b-a**2+b-1,order='lex')"
   ]
  },
  {
   "cell_type": "code",
   "execution_count": 403,
   "metadata": {
    "collapsed": false
   },
   "outputs": [
    {
     "data": {
      "text/plain": [
       "-a**2 - a*b**2 + 2*a - b**2 + 1"
      ]
     },
     "execution_count": 403,
     "metadata": {},
     "output_type": "execute_result"
    }
   ],
   "source": [
    "DivF(a**2*b - 2*a**2 - a*b**2 + 2*a - b**2 + b, a**2*b-a**2+b-1,'lex')"
   ]
  },
  {
   "cell_type": "code",
   "execution_count": 404,
   "metadata": {
    "collapsed": false
   },
   "outputs": [
    {
     "data": {
      "text/plain": [
       "-a**2 - 2*b**2 + 3"
      ]
     },
     "execution_count": 404,
     "metadata": {},
     "output_type": "execute_result"
    }
   ],
   "source": [
    "DivF(-a**2 - a*b**2 + 2*a - b**2 + 1, a*b**2 - 2*a - b**2 + 2,'lex')"
   ]
  },
  {
   "cell_type": "code",
   "execution_count": 407,
   "metadata": {
    "collapsed": false
   },
   "outputs": [],
   "source": [
    "# Esta función divide un polinomio entre una familia de los mismos y devuelve el resto.\n",
    "def DivFamilia(polinomio,familia,orden):\n",
    "    pol = polinomio\n",
    "    # En primer lugar ordenamos la familia.\n",
    "    fam = OrdenarPolinomios(familia,orden)\n",
    "    # A continuación vamos dividiendo entre cada elemento de la familia.\n",
    "    n = len(familia)\n",
    "    for i in range(n):\n",
    "        if(pol != 0):\n",
    "            pol=DivF(pol,fam[i],orden)\n",
    "    return(pol)"
   ]
  },
  {
   "cell_type": "code",
   "execution_count": 408,
   "metadata": {
    "collapsed": false
   },
   "outputs": [
    {
     "data": {
      "text/plain": [
       "0"
      ]
     },
     "execution_count": 408,
     "metadata": {},
     "output_type": "execute_result"
    }
   ],
   "source": [
    "DivFamilia( a**2*b**2 + 2*a**2*b - 2*a**2 + 2*b**5 - 3*b**3 , [a*b**2 - 2*a - b**2 + 2, a**2*b - a**2 + b - 1, a**2 + 2*b**2 - 3, b**4 - 3*b**2 + 2, b**3 - b**2 - 2*b + 2, a**2 + 3*b**3/2 + b**2/2 - 3*b],'lex')"
   ]
  },
  {
   "cell_type": "code",
   "execution_count": 409,
   "metadata": {
    "collapsed": false
   },
   "outputs": [
    {
     "data": {
      "text/plain": [
       "1"
      ]
     },
     "execution_count": 409,
     "metadata": {},
     "output_type": "execute_result"
    }
   ],
   "source": [
    "DivFamilia(1,[a**2,b**3],'lex')"
   ]
  },
  {
   "cell_type": "code",
   "execution_count": 410,
   "metadata": {
    "collapsed": false
   },
   "outputs": [
    {
     "data": {
      "text/plain": [
       "0"
      ]
     },
     "execution_count": 410,
     "metadata": {},
     "output_type": "execute_result"
    }
   ],
   "source": [
    "DivFamilia(a**2*b - 2*a**2 - a*b**2 + 2*a - b**2 + b,[a*b**2 - 2*a - b**2 + 2, a**2*b - a**2 + b - 1, -a**2 - 2*b**2 + 3],'lex')"
   ]
  },
  {
   "cell_type": "code",
   "execution_count": 429,
   "metadata": {
    "collapsed": false
   },
   "outputs": [],
   "source": [
    "# Esta función calcula una base de Gröbner a partir de una familia de polinomios.\n",
    "def Grobner(fam,orden):\n",
    "    # Aqui metemos los elementos nuevos de la base.\n",
    "    familiaA = []\n",
    "    familiaB = [fam[i] for i in range(len(fam))]\n",
    "    familiaC = []\n",
    "    continuar = True\n",
    "    while(continuar):\n",
    "        print('familiaA = ',familiaA)\n",
    "        print('familiaB = ',familiaB)\n",
    "        print('familiaC = ',familiaC)\n",
    "        continuar = False\n",
    "        # Vemos las longitudes de las familias.\n",
    "        nA = len(familiaA)\n",
    "        nB = len(familiaB)\n",
    "        nC = len(familiaC)\n",
    "        # En primer lugar, la familia A tiene hijos con la B y la almacena en C\n",
    "        for i in range(nA):\n",
    "            for j in range(nB):\n",
    "                sp = Spolinomio(familiaA[i],familiaB[j],orden)\n",
    "                sp = DivFamilia(sp,familiaA+familiaB+familiaC,orden)\n",
    "                if(sp == 0):\n",
    "                    continue\n",
    "                if(sp != 0 and (monic(sp) not in familiaB+familiaA+familiaC)):\n",
    "                    if(sp not in familiaB):\n",
    "                        familiaC.append(monic(sp))\n",
    "                        continuar = True\n",
    "        # En segundo lugar los nuevos tienen hijos entre ellos y la almacena en la C.\n",
    "        n = len(familiaB)\n",
    "        for i in range(n):\n",
    "            for j in range (i+1,n):\n",
    "                sp = Spolinomio(familiaB[i],familiaB[j],orden)\n",
    "                sp = DivFamilia(sp,familiaA+familiaB+familiaC,orden)\n",
    "                if(sp == 0):\n",
    "                    continue\n",
    "                if(monic(sp) != 0 and (monic(sp) not in familiaB+familiaA+familiaC)):\n",
    "                    familiaC.append(monic(sp))\n",
    "                    continuar = True\n",
    "        # Finalmente la familiaB se una a la A y la C pasa a ser la B.\n",
    "        familiaA = familiaA+familiaB\n",
    "        familiaB = [x for x in familiaC]\n",
    "        familiaC = []\n",
    "    return(familiaA)"
   ]
  },
  {
   "cell_type": "code",
   "execution_count": 422,
   "metadata": {
    "collapsed": false,
    "scrolled": false
   },
   "outputs": [
    {
     "data": {
      "text/plain": [
       "[a*b**2 - 2*a - b**2 + 2,\n",
       " a**2*b - a**2 + b - 1,\n",
       " a**2 + 2*b**2 - 3,\n",
       " b**3 - b**2 - 2*b + 2]"
      ]
     },
     "execution_count": 422,
     "metadata": {},
     "output_type": "execute_result"
    }
   ],
   "source": [
    "Grobner([a*b**2-2*a-b**2+2,a**2*b-a**2+b-1],'lex')"
   ]
  },
  {
   "cell_type": "code",
   "execution_count": 435,
   "metadata": {
    "collapsed": false
   },
   "outputs": [
    {
     "data": {
      "text/plain": [
       "GroebnerBasis([a**2 + 2*b**2 - 3, a*b**2 - 2*a - b**2 + 2, b**3 - b**2 - 2*b + 2], a, b, domain='ZZ', order='lex')"
      ]
     },
     "execution_count": 435,
     "metadata": {},
     "output_type": "execute_result"
    }
   ],
   "source": [
    "groebner([a*b**2-2*a-b**2+2,a**2*b-a**2+b-1],order='lex')"
   ]
  },
  {
   "cell_type": "code",
   "execution_count": 437,
   "metadata": {
    "collapsed": false
   },
   "outputs": [
    {
     "name": "stdout",
     "output_type": "stream",
     "text": [
      "familiaA =  []\n",
      "familiaB =  [a**2*b - 2*a**2 - b + 2, a*c**3*d - a*d - 3*c**3*d + 3*d, b**4*d - 16*d]\n",
      "familiaC =  []\n"
     ]
    },
    {
     "data": {
      "text/plain": [
       "[a**2*b - 2*a**2 - b + 2, a*c**3*d - a*d - 3*c**3*d + 3*d, b**4*d - 16*d]"
      ]
     },
     "execution_count": 437,
     "metadata": {},
     "output_type": "execute_result"
    }
   ],
   "source": [
    "Grobner([a**2*b-2*a**2-b+2,a*c**3*d-a*d-3*c**3*d+3*d,b**4*d-16*d],'lex')"
   ]
  },
  {
   "cell_type": "code",
   "execution_count": 444,
   "metadata": {
    "collapsed": false
   },
   "outputs": [
    {
     "data": {
      "text/plain": [
       "0"
      ]
     },
     "execution_count": 444,
     "metadata": {},
     "output_type": "execute_result"
    }
   ],
   "source": [
    "DivFamilia(Spolinomio(a*c**3*d-a*d-3*c**3*d+3*d, b**4*d-16*d,'lex'),[a**2*b-2*a**2-b+2,a*c**3*d-a*d-3*c**3*d+3*d,b**4*d-16*d],'lex')"
   ]
  },
  {
   "cell_type": "code",
   "execution_count": 436,
   "metadata": {
    "collapsed": false
   },
   "outputs": [
    {
     "data": {
      "text/plain": [
       "GroebnerBasis([a**2*b - 2*a**2 - b + 2, a*c**3*d - a*d - 3*c**3*d + 3*d, b**4*d - 16*d, b*c**3*d - b*d - 2*c**3*d + 2*d], a, b, c, d, domain='ZZ', order='lex')"
      ]
     },
     "execution_count": 436,
     "metadata": {},
     "output_type": "execute_result"
    }
   ],
   "source": [
    "groebner([a**2*b-2*a**2-b+2,a*c**3*d-a*d-3*c**3*d+3*d,b**4*d-16*d],order ='lex')"
   ]
  },
  {
   "cell_type": "markdown",
   "metadata": {},
   "source": [
    "**6. Fijado el orden lexicográfico con $x>y>z>t$, calcular la base de Gröber reducida de**\n",
    "$$\\{x^2z-2x^2-z+2,xy^3-x,t^2y^4x^3-t^2y^4-16x^3+16\\}$$\n",
    "**respecto a dicho orden.**"
   ]
  },
  {
   "cell_type": "code",
   "execution_count": 431,
   "metadata": {
    "collapsed": false,
    "scrolled": false
   },
   "outputs": [
    {
     "name": "stdout",
     "output_type": "stream",
     "text": [
      "familiaA =  []\n",
      "familiaB =  [a**2*c - 2*a**2 - c + 2, a*b**3 - a, a**3*b**4*d**2 - 16*a**3 - b**4*d**2 + 16]\n",
      "familiaC =  []\n",
      "familiaA =  [a**2*c - 2*a**2 - c + 2, a*b**3 - a, a**3*b**4*d**2 - 16*a**3 - b**4*d**2 + 16]\n",
      "familiaB =  [a*b**4*d**2 - a*b*c*d**2/2 + 8*a*c - 16*a + b**4*c*d**2/2 - b**4*d**2 - 8*c + 16, a**3*b*d**2 - 16*a**3 - b**4*d**2 + 16]\n",
      "familiaC =  []\n",
      "familiaA =  [a**2*c - 2*a**2 - c + 2, a*b**3 - a, a**3*b**4*d**2 - 16*a**3 - b**4*d**2 + 16, a*b**4*d**2 - a*b*c*d**2/2 + 8*a*c - 16*a + b**4*c*d**2/2 - b**4*d**2 - 8*c + 16, a**3*b*d**2 - 16*a**3 - b**4*d**2 + 16]\n",
      "familiaB =  [a*b*c*d**2 - 2*a*b*d**2 - 16*a*c + 32*a - b**4*c*d**2 + 2*b**4*d**2 + 16*c - 32, b**7*d**2 - b**4*d**2 - 16*b**3 + 16]\n",
      "familiaC =  []\n",
      "familiaA =  [a**2*c - 2*a**2 - c + 2, a*b**3 - a, a**3*b**4*d**2 - 16*a**3 - b**4*d**2 + 16, a*b**4*d**2 - a*b*c*d**2/2 + 8*a*c - 16*a + b**4*c*d**2/2 - b**4*d**2 - 8*c + 16, a**3*b*d**2 - 16*a**3 - b**4*d**2 + 16, a*b*c*d**2 - 2*a*b*d**2 - 16*a*c + 32*a - b**4*c*d**2 + 2*b**4*d**2 + 16*c - 32, b**7*d**2 - b**4*d**2 - 16*b**3 + 16]\n",
      "familiaB =  [a**3*c - 2*a**3 - a**2*b**4*c*d**2/16 + a**2*b**4*d**2/8 + a**2*b**3*c - 2*a**2*b**3 - a*b**3*c + 2*a*b**3 + b**4*c*d**2/16 - b**4*d**2/8 - c + 2]\n",
      "familiaC =  []\n",
      "familiaA =  [a**2*c - 2*a**2 - c + 2, a*b**3 - a, a**3*b**4*d**2 - 16*a**3 - b**4*d**2 + 16, a*b**4*d**2 - a*b*c*d**2/2 + 8*a*c - 16*a + b**4*c*d**2/2 - b**4*d**2 - 8*c + 16, a**3*b*d**2 - 16*a**3 - b**4*d**2 + 16, a*b*c*d**2 - 2*a*b*d**2 - 16*a*c + 32*a - b**4*c*d**2 + 2*b**4*d**2 + 16*c - 32, b**7*d**2 - b**4*d**2 - 16*b**3 + 16, a**3*c - 2*a**3 - a**2*b**4*c*d**2/16 + a**2*b**4*d**2/8 + a**2*b**3*c - 2*a**2*b**3 - a*b**3*c + 2*a*b**3 + b**4*c*d**2/16 - b**4*d**2/8 - c + 2]\n",
      "familiaB =  [a**2*b**3 - a**2*c/2 + a*b**3*c/2 - a*b**3 - a*c/2 + a + c/2 - 1, a**2*b**5*d**4 + 8*a**2*b**4*c*d**2 - 16*a**2*b**4*d**2 - 128*a**2*b**3*c + 256*a**2*b**3 - a**2*b**2*c**2*d**4/4 - a*b**8*c*d**4/2 - 8*a*b**7*c*d**2 + 16*a*b**7*d**2 + a*b**5*c*d**4/2 + 4*a*b**4*c**2*d**2 + 128*a*b**3*c - 256*a*b**3 - 4*a*b*c**2*d**2 + b**8*c*d**4/2 - b**8*d**4 + 8*b**7*c*d**2 - 16*b**7*d**2 + b**5*c**2*d**4/4 - b**5*c*d**4/2 - 8*b**4*c*d**2 + 16*b**4*d**2, a**2*b**6*c**2 - 2*a**2*b**6*c + a**2*b**5*c**2*d**4/256 - a**2*b**5*c*d**4/128 + a**2*b**4*c**3*d**2/32 - a**2*b**4*c**2*d**2/16 - a**2*b**4*c*d**2/4 + a**2*b**4*d**2/2 + a**2*b**3*c**2 - 4*a**2*b**3 - a**2*c**2 + 2*a**2*c + a*b**10*c**2*d**2/16 - a*b**10*c*d**2/8 + a*b**8*c**3*d**4/512 - a*b**8*c**2*d**4/256 + a*b**8*c*d**4/128 - a*b**8*d**4/64 - a*b**7*c**3*d**2/32 + a*b**7*c**2*d**2/8 - a*b**7*d**2/4 - a*b**6*c**2 + 2*a*b**6*c - a*b**5*c*d**4/128 + a*b**5*d**4/64 - a*b**3*c**2 + 4*a*b**3 - b**11*c**2*d**4/256 + b**11*c*d**4/128 - b**10*c**2*d**2/16 + b**10*c*d**2/8 - b**8*c**3*d**4/512 + b**8*c**2*d**4/256 - b**8*c*d**4/128 + b**8*d**4/64 + b**5*c*d**4/128 - b**5*d**4/64 - b**4*c**2*d**2/16 + b**4*c*d**2/4 - b**4*d**2/4 + c**2 - 2*c]\n",
      "familiaC =  []\n"
     ]
    },
    {
     "ename": "KeyboardInterrupt",
     "evalue": "",
     "output_type": "error",
     "traceback": [
      "\u001b[0;31m---------------------------------------------------------------------------\u001b[0m",
      "\u001b[0;31mKeyboardInterrupt\u001b[0m                         Traceback (most recent call last)",
      "\u001b[0;32m<ipython-input-431-9cd1fa5c44f7>\u001b[0m in \u001b[0;36m<module>\u001b[0;34m()\u001b[0m\n\u001b[0;32m----> 1\u001b[0;31m \u001b[0mGrobner\u001b[0m\u001b[0;34m(\u001b[0m\u001b[0;34m[\u001b[0m\u001b[0ma\u001b[0m\u001b[0;34m**\u001b[0m\u001b[0;36m2\u001b[0m\u001b[0;34m*\u001b[0m\u001b[0mc\u001b[0m\u001b[0;34m-\u001b[0m\u001b[0;36m2\u001b[0m\u001b[0;34m*\u001b[0m\u001b[0ma\u001b[0m\u001b[0;34m**\u001b[0m\u001b[0;36m2\u001b[0m\u001b[0;34m-\u001b[0m\u001b[0mc\u001b[0m\u001b[0;34m+\u001b[0m\u001b[0;36m2\u001b[0m\u001b[0;34m,\u001b[0m\u001b[0ma\u001b[0m\u001b[0;34m*\u001b[0m\u001b[0mb\u001b[0m\u001b[0;34m**\u001b[0m\u001b[0;36m3\u001b[0m\u001b[0;34m-\u001b[0m\u001b[0ma\u001b[0m\u001b[0;34m,\u001b[0m\u001b[0md\u001b[0m\u001b[0;34m**\u001b[0m\u001b[0;36m2\u001b[0m\u001b[0;34m*\u001b[0m\u001b[0mb\u001b[0m\u001b[0;34m**\u001b[0m\u001b[0;36m4\u001b[0m\u001b[0;34m*\u001b[0m\u001b[0ma\u001b[0m\u001b[0;34m**\u001b[0m\u001b[0;36m3\u001b[0m\u001b[0;34m-\u001b[0m\u001b[0md\u001b[0m\u001b[0;34m**\u001b[0m\u001b[0;36m2\u001b[0m\u001b[0;34m*\u001b[0m\u001b[0mb\u001b[0m\u001b[0;34m**\u001b[0m\u001b[0;36m4\u001b[0m\u001b[0;34m-\u001b[0m\u001b[0;36m16\u001b[0m\u001b[0;34m*\u001b[0m\u001b[0ma\u001b[0m\u001b[0;34m**\u001b[0m\u001b[0;36m3\u001b[0m\u001b[0;34m+\u001b[0m\u001b[0;36m16\u001b[0m\u001b[0;34m]\u001b[0m\u001b[0;34m,\u001b[0m\u001b[0;34m'lex'\u001b[0m\u001b[0;34m)\u001b[0m\u001b[0;34m\u001b[0m\u001b[0m\n\u001b[0m",
      "\u001b[0;32m<ipython-input-429-b2debd4a0049>\u001b[0m in \u001b[0;36mGrobner\u001b[0;34m(fam, orden)\u001b[0m\n\u001b[1;32m     19\u001b[0m             \u001b[0;32mfor\u001b[0m \u001b[0mj\u001b[0m \u001b[0;32min\u001b[0m \u001b[0mrange\u001b[0m\u001b[0;34m(\u001b[0m\u001b[0mnB\u001b[0m\u001b[0;34m)\u001b[0m\u001b[0;34m:\u001b[0m\u001b[0;34m\u001b[0m\u001b[0m\n\u001b[1;32m     20\u001b[0m                 \u001b[0msp\u001b[0m \u001b[0;34m=\u001b[0m \u001b[0mSpolinomio\u001b[0m\u001b[0;34m(\u001b[0m\u001b[0mfamiliaA\u001b[0m\u001b[0;34m[\u001b[0m\u001b[0mi\u001b[0m\u001b[0;34m]\u001b[0m\u001b[0;34m,\u001b[0m\u001b[0mfamiliaB\u001b[0m\u001b[0;34m[\u001b[0m\u001b[0mj\u001b[0m\u001b[0;34m]\u001b[0m\u001b[0;34m,\u001b[0m\u001b[0morden\u001b[0m\u001b[0;34m)\u001b[0m\u001b[0;34m\u001b[0m\u001b[0m\n\u001b[0;32m---> 21\u001b[0;31m                 \u001b[0msp\u001b[0m \u001b[0;34m=\u001b[0m \u001b[0mDivFamilia\u001b[0m\u001b[0;34m(\u001b[0m\u001b[0msp\u001b[0m\u001b[0;34m,\u001b[0m\u001b[0mfamiliaA\u001b[0m\u001b[0;34m+\u001b[0m\u001b[0mfamiliaB\u001b[0m\u001b[0;34m+\u001b[0m\u001b[0mfamiliaC\u001b[0m\u001b[0;34m,\u001b[0m\u001b[0morden\u001b[0m\u001b[0;34m)\u001b[0m\u001b[0;34m\u001b[0m\u001b[0m\n\u001b[0m\u001b[1;32m     22\u001b[0m                 \u001b[0;32mif\u001b[0m\u001b[0;34m(\u001b[0m\u001b[0msp\u001b[0m \u001b[0;34m==\u001b[0m \u001b[0;36m0\u001b[0m\u001b[0;34m)\u001b[0m\u001b[0;34m:\u001b[0m\u001b[0;34m\u001b[0m\u001b[0m\n\u001b[1;32m     23\u001b[0m                     \u001b[0;32mcontinue\u001b[0m\u001b[0;34m\u001b[0m\u001b[0m\n",
      "\u001b[0;32m<ipython-input-407-79548d9430e6>\u001b[0m in \u001b[0;36mDivFamilia\u001b[0;34m(polinomio, familia, orden)\u001b[0m\n\u001b[1;32m      8\u001b[0m     \u001b[0;32mfor\u001b[0m \u001b[0mi\u001b[0m \u001b[0;32min\u001b[0m \u001b[0mrange\u001b[0m\u001b[0;34m(\u001b[0m\u001b[0mn\u001b[0m\u001b[0;34m)\u001b[0m\u001b[0;34m:\u001b[0m\u001b[0;34m\u001b[0m\u001b[0m\n\u001b[1;32m      9\u001b[0m         \u001b[0;32mif\u001b[0m\u001b[0;34m(\u001b[0m\u001b[0mpol\u001b[0m \u001b[0;34m!=\u001b[0m \u001b[0;36m0\u001b[0m\u001b[0;34m)\u001b[0m\u001b[0;34m:\u001b[0m\u001b[0;34m\u001b[0m\u001b[0m\n\u001b[0;32m---> 10\u001b[0;31m             \u001b[0mpol\u001b[0m\u001b[0;34m=\u001b[0m\u001b[0mDivF\u001b[0m\u001b[0;34m(\u001b[0m\u001b[0mpol\u001b[0m\u001b[0;34m,\u001b[0m\u001b[0mfam\u001b[0m\u001b[0;34m[\u001b[0m\u001b[0mi\u001b[0m\u001b[0;34m]\u001b[0m\u001b[0;34m,\u001b[0m\u001b[0morden\u001b[0m\u001b[0;34m)\u001b[0m\u001b[0;34m\u001b[0m\u001b[0m\n\u001b[0m\u001b[1;32m     11\u001b[0m     \u001b[0;32mreturn\u001b[0m\u001b[0;34m(\u001b[0m\u001b[0mpol\u001b[0m\u001b[0;34m)\u001b[0m\u001b[0;34m\u001b[0m\u001b[0m\n",
      "\u001b[0;32m<ipython-input-400-0ab629ac1767>\u001b[0m in \u001b[0;36mDivF\u001b[0;34m(faux, gaux, orden)\u001b[0m\n\u001b[1;32m     25\u001b[0m         \u001b[0mxa\u001b[0m \u001b[0;34m=\u001b[0m \u001b[0mLM\u001b[0m\u001b[0;34m(\u001b[0m\u001b[0mf\u001b[0m\u001b[0;34m,\u001b[0m\u001b[0morder\u001b[0m\u001b[0;34m=\u001b[0m\u001b[0morden\u001b[0m\u001b[0;34m)\u001b[0m\u001b[0;34m\u001b[0m\u001b[0m\n\u001b[1;32m     26\u001b[0m         \u001b[0mcb\u001b[0m \u001b[0;34m=\u001b[0m \u001b[0mLC\u001b[0m\u001b[0;34m(\u001b[0m\u001b[0mg\u001b[0m\u001b[0;34m,\u001b[0m\u001b[0morder\u001b[0m\u001b[0;34m=\u001b[0m\u001b[0morden\u001b[0m\u001b[0;34m)\u001b[0m\u001b[0;34m\u001b[0m\u001b[0m\n\u001b[0;32m---> 27\u001b[0;31m         \u001b[0mxb\u001b[0m \u001b[0;34m=\u001b[0m \u001b[0mLM\u001b[0m\u001b[0;34m(\u001b[0m\u001b[0mg\u001b[0m\u001b[0;34m,\u001b[0m\u001b[0morder\u001b[0m\u001b[0;34m=\u001b[0m\u001b[0morden\u001b[0m\u001b[0;34m)\u001b[0m\u001b[0;34m\u001b[0m\u001b[0m\n\u001b[0m\u001b[1;32m     28\u001b[0m         \u001b[0mq\u001b[0m\u001b[0;34m,\u001b[0m\u001b[0mr\u001b[0m \u001b[0;34m=\u001b[0m \u001b[0mdiv\u001b[0m\u001b[0;34m(\u001b[0m\u001b[0mca\u001b[0m\u001b[0;34m*\u001b[0m\u001b[0mxa\u001b[0m\u001b[0;34m,\u001b[0m\u001b[0mcb\u001b[0m\u001b[0;34m*\u001b[0m\u001b[0mxb\u001b[0m\u001b[0;34m,\u001b[0m\u001b[0morder\u001b[0m\u001b[0;34m=\u001b[0m\u001b[0morden\u001b[0m\u001b[0;34m)\u001b[0m\u001b[0;34m\u001b[0m\u001b[0m\n\u001b[1;32m     29\u001b[0m         \u001b[0;32mif\u001b[0m\u001b[0;34m(\u001b[0m\u001b[0mr\u001b[0m \u001b[0;34m==\u001b[0m \u001b[0;36m0\u001b[0m\u001b[0;34m)\u001b[0m\u001b[0;34m:\u001b[0m\u001b[0;34m\u001b[0m\u001b[0m\n",
      "\u001b[0;32m/home/daniel/anaconda3/lib/python3.6/site-packages/sympy/polys/polytools.py\u001b[0m in \u001b[0;36mLM\u001b[0;34m(f, *gens, **args)\u001b[0m\n\u001b[1;32m   4376\u001b[0m \u001b[0;34m\u001b[0m\u001b[0m\n\u001b[1;32m   4377\u001b[0m     \u001b[0;32mtry\u001b[0m\u001b[0;34m:\u001b[0m\u001b[0;34m\u001b[0m\u001b[0m\n\u001b[0;32m-> 4378\u001b[0;31m         \u001b[0mF\u001b[0m\u001b[0;34m,\u001b[0m \u001b[0mopt\u001b[0m \u001b[0;34m=\u001b[0m \u001b[0mpoly_from_expr\u001b[0m\u001b[0;34m(\u001b[0m\u001b[0mf\u001b[0m\u001b[0;34m,\u001b[0m \u001b[0;34m*\u001b[0m\u001b[0mgens\u001b[0m\u001b[0;34m,\u001b[0m \u001b[0;34m**\u001b[0m\u001b[0margs\u001b[0m\u001b[0;34m)\u001b[0m\u001b[0;34m\u001b[0m\u001b[0m\n\u001b[0m\u001b[1;32m   4379\u001b[0m     \u001b[0;32mexcept\u001b[0m \u001b[0mPolificationFailed\u001b[0m \u001b[0;32mas\u001b[0m \u001b[0mexc\u001b[0m\u001b[0;34m:\u001b[0m\u001b[0;34m\u001b[0m\u001b[0m\n\u001b[1;32m   4380\u001b[0m         \u001b[0;32mraise\u001b[0m \u001b[0mComputationFailed\u001b[0m\u001b[0;34m(\u001b[0m\u001b[0;34m'LM'\u001b[0m\u001b[0;34m,\u001b[0m \u001b[0;36m1\u001b[0m\u001b[0;34m,\u001b[0m \u001b[0mexc\u001b[0m\u001b[0;34m)\u001b[0m\u001b[0;34m\u001b[0m\u001b[0m\n",
      "\u001b[0;32m/home/daniel/anaconda3/lib/python3.6/site-packages/sympy/polys/polytools.py\u001b[0m in \u001b[0;36mpoly_from_expr\u001b[0;34m(expr, *gens, **args)\u001b[0m\n\u001b[1;32m   4118\u001b[0m     \u001b[0;34m\"\"\"Construct a polynomial from an expression. \"\"\"\u001b[0m\u001b[0;34m\u001b[0m\u001b[0m\n\u001b[1;32m   4119\u001b[0m     \u001b[0mopt\u001b[0m \u001b[0;34m=\u001b[0m \u001b[0moptions\u001b[0m\u001b[0;34m.\u001b[0m\u001b[0mbuild_options\u001b[0m\u001b[0;34m(\u001b[0m\u001b[0mgens\u001b[0m\u001b[0;34m,\u001b[0m \u001b[0margs\u001b[0m\u001b[0;34m)\u001b[0m\u001b[0;34m\u001b[0m\u001b[0m\n\u001b[0;32m-> 4120\u001b[0;31m     \u001b[0;32mreturn\u001b[0m \u001b[0m_poly_from_expr\u001b[0m\u001b[0;34m(\u001b[0m\u001b[0mexpr\u001b[0m\u001b[0;34m,\u001b[0m \u001b[0mopt\u001b[0m\u001b[0;34m)\u001b[0m\u001b[0;34m\u001b[0m\u001b[0m\n\u001b[0m\u001b[1;32m   4121\u001b[0m \u001b[0;34m\u001b[0m\u001b[0m\n\u001b[1;32m   4122\u001b[0m \u001b[0;34m\u001b[0m\u001b[0m\n",
      "\u001b[0;32m/home/daniel/anaconda3/lib/python3.6/site-packages/sympy/polys/polytools.py\u001b[0m in \u001b[0;36m_poly_from_expr\u001b[0;34m(expr, opt)\u001b[0m\n\u001b[1;32m   4141\u001b[0m \u001b[0;34m\u001b[0m\u001b[0m\n\u001b[1;32m   4142\u001b[0m     \u001b[0;32mtry\u001b[0m\u001b[0;34m:\u001b[0m\u001b[0;34m\u001b[0m\u001b[0m\n\u001b[0;32m-> 4143\u001b[0;31m         \u001b[0mrep\u001b[0m\u001b[0;34m,\u001b[0m \u001b[0mopt\u001b[0m \u001b[0;34m=\u001b[0m \u001b[0m_dict_from_expr\u001b[0m\u001b[0;34m(\u001b[0m\u001b[0mexpr\u001b[0m\u001b[0;34m,\u001b[0m \u001b[0mopt\u001b[0m\u001b[0;34m)\u001b[0m\u001b[0;34m\u001b[0m\u001b[0m\n\u001b[0m\u001b[1;32m   4144\u001b[0m     \u001b[0;32mexcept\u001b[0m \u001b[0mGeneratorsNeeded\u001b[0m\u001b[0;34m:\u001b[0m\u001b[0;34m\u001b[0m\u001b[0m\n\u001b[1;32m   4145\u001b[0m         \u001b[0;32mraise\u001b[0m \u001b[0mPolificationFailed\u001b[0m\u001b[0;34m(\u001b[0m\u001b[0mopt\u001b[0m\u001b[0;34m,\u001b[0m \u001b[0morig\u001b[0m\u001b[0;34m,\u001b[0m \u001b[0mexpr\u001b[0m\u001b[0;34m)\u001b[0m\u001b[0;34m\u001b[0m\u001b[0m\n",
      "\u001b[0;32m/home/daniel/anaconda3/lib/python3.6/site-packages/sympy/polys/polyutils.py\u001b[0m in \u001b[0;36m_dict_from_expr\u001b[0;34m(expr, opt)\u001b[0m\n\u001b[1;32m    373\u001b[0m         \u001b[0mrep\u001b[0m\u001b[0;34m,\u001b[0m \u001b[0mgens\u001b[0m \u001b[0;34m=\u001b[0m \u001b[0m_dict_from_expr_if_gens\u001b[0m\u001b[0;34m(\u001b[0m\u001b[0mexpr\u001b[0m\u001b[0;34m,\u001b[0m \u001b[0mopt\u001b[0m\u001b[0;34m)\u001b[0m\u001b[0;34m\u001b[0m\u001b[0m\n\u001b[1;32m    374\u001b[0m     \u001b[0;32melse\u001b[0m\u001b[0;34m:\u001b[0m\u001b[0;34m\u001b[0m\u001b[0m\n\u001b[0;32m--> 375\u001b[0;31m         \u001b[0mrep\u001b[0m\u001b[0;34m,\u001b[0m \u001b[0mgens\u001b[0m \u001b[0;34m=\u001b[0m \u001b[0m_dict_from_expr_no_gens\u001b[0m\u001b[0;34m(\u001b[0m\u001b[0mexpr\u001b[0m\u001b[0;34m,\u001b[0m \u001b[0mopt\u001b[0m\u001b[0;34m)\u001b[0m\u001b[0;34m\u001b[0m\u001b[0m\n\u001b[0m\u001b[1;32m    376\u001b[0m \u001b[0;34m\u001b[0m\u001b[0m\n\u001b[1;32m    377\u001b[0m     \u001b[0;32mreturn\u001b[0m \u001b[0mrep\u001b[0m\u001b[0;34m,\u001b[0m \u001b[0mopt\u001b[0m\u001b[0;34m.\u001b[0m\u001b[0mclone\u001b[0m\u001b[0;34m(\u001b[0m\u001b[0;34m{\u001b[0m\u001b[0;34m'gens'\u001b[0m\u001b[0;34m:\u001b[0m \u001b[0mgens\u001b[0m\u001b[0;34m}\u001b[0m\u001b[0;34m)\u001b[0m\u001b[0;34m\u001b[0m\u001b[0m\n",
      "\u001b[0;32m/home/daniel/anaconda3/lib/python3.6/site-packages/sympy/polys/polyutils.py\u001b[0m in \u001b[0;36m_dict_from_expr_no_gens\u001b[0;34m(expr, opt)\u001b[0m\n\u001b[1;32m    315\u001b[0m \u001b[0;32mdef\u001b[0m \u001b[0m_dict_from_expr_no_gens\u001b[0m\u001b[0;34m(\u001b[0m\u001b[0mexpr\u001b[0m\u001b[0;34m,\u001b[0m \u001b[0mopt\u001b[0m\u001b[0;34m)\u001b[0m\u001b[0;34m:\u001b[0m\u001b[0;34m\u001b[0m\u001b[0m\n\u001b[1;32m    316\u001b[0m     \u001b[0;34m\"\"\"Transform an expression into a multinomial form and figure out generators. \"\"\"\u001b[0m\u001b[0;34m\u001b[0m\u001b[0m\n\u001b[0;32m--> 317\u001b[0;31m     \u001b[0;34m(\u001b[0m\u001b[0mpoly\u001b[0m\u001b[0;34m,\u001b[0m\u001b[0;34m)\u001b[0m\u001b[0;34m,\u001b[0m \u001b[0mgens\u001b[0m \u001b[0;34m=\u001b[0m \u001b[0m_parallel_dict_from_expr_no_gens\u001b[0m\u001b[0;34m(\u001b[0m\u001b[0;34m(\u001b[0m\u001b[0mexpr\u001b[0m\u001b[0;34m,\u001b[0m\u001b[0;34m)\u001b[0m\u001b[0;34m,\u001b[0m \u001b[0mopt\u001b[0m\u001b[0;34m)\u001b[0m\u001b[0;34m\u001b[0m\u001b[0m\n\u001b[0m\u001b[1;32m    318\u001b[0m     \u001b[0;32mreturn\u001b[0m \u001b[0mpoly\u001b[0m\u001b[0;34m,\u001b[0m \u001b[0mgens\u001b[0m\u001b[0;34m\u001b[0m\u001b[0m\n\u001b[1;32m    319\u001b[0m \u001b[0;34m\u001b[0m\u001b[0m\n",
      "\u001b[0;32m/home/daniel/anaconda3/lib/python3.6/site-packages/sympy/polys/polyutils.py\u001b[0m in \u001b[0;36m_parallel_dict_from_expr_no_gens\u001b[0;34m(exprs, opt)\u001b[0m\n\u001b[1;32m    252\u001b[0m \u001b[0;34m\u001b[0m\u001b[0m\n\u001b[1;32m    253\u001b[0m             \u001b[0;32mfor\u001b[0m \u001b[0mfactor\u001b[0m \u001b[0;32min\u001b[0m \u001b[0mMul\u001b[0m\u001b[0;34m.\u001b[0m\u001b[0mmake_args\u001b[0m\u001b[0;34m(\u001b[0m\u001b[0mterm\u001b[0m\u001b[0;34m)\u001b[0m\u001b[0;34m:\u001b[0m\u001b[0;34m\u001b[0m\u001b[0m\n\u001b[0;32m--> 254\u001b[0;31m                 \u001b[0;32mif\u001b[0m \u001b[0;32mnot\u001b[0m \u001b[0m_not_a_coeff\u001b[0m\u001b[0;34m(\u001b[0m\u001b[0mfactor\u001b[0m\u001b[0;34m)\u001b[0m \u001b[0;32mand\u001b[0m \u001b[0;34m(\u001b[0m\u001b[0mfactor\u001b[0m\u001b[0;34m.\u001b[0m\u001b[0mis_Number\u001b[0m \u001b[0;32mor\u001b[0m \u001b[0m_is_coeff\u001b[0m\u001b[0;34m(\u001b[0m\u001b[0mfactor\u001b[0m\u001b[0;34m)\u001b[0m\u001b[0;34m)\u001b[0m\u001b[0;34m:\u001b[0m\u001b[0;34m\u001b[0m\u001b[0m\n\u001b[0m\u001b[1;32m    255\u001b[0m                     \u001b[0mcoeff\u001b[0m\u001b[0;34m.\u001b[0m\u001b[0mappend\u001b[0m\u001b[0;34m(\u001b[0m\u001b[0mfactor\u001b[0m\u001b[0;34m)\u001b[0m\u001b[0;34m\u001b[0m\u001b[0m\n\u001b[1;32m    256\u001b[0m                 \u001b[0;32melse\u001b[0m\u001b[0;34m:\u001b[0m\u001b[0;34m\u001b[0m\u001b[0m\n",
      "\u001b[0;32m/home/daniel/anaconda3/lib/python3.6/site-packages/sympy/polys/polyutils.py\u001b[0m in \u001b[0;36m_not_a_coeff\u001b[0;34m(expr)\u001b[0m\n\u001b[1;32m    172\u001b[0m \u001b[0;32mdef\u001b[0m \u001b[0m_not_a_coeff\u001b[0m\u001b[0;34m(\u001b[0m\u001b[0mexpr\u001b[0m\u001b[0;34m)\u001b[0m\u001b[0;34m:\u001b[0m\u001b[0;34m\u001b[0m\u001b[0m\n\u001b[1;32m    173\u001b[0m     \u001b[0;34m\"\"\"Do not treat NaN and infinities as valid polynomial coefficients. \"\"\"\u001b[0m\u001b[0;34m\u001b[0m\u001b[0m\n\u001b[0;32m--> 174\u001b[0;31m     \u001b[0;32mreturn\u001b[0m \u001b[0mexpr\u001b[0m \u001b[0;32min\u001b[0m \u001b[0;34m[\u001b[0m\u001b[0mS\u001b[0m\u001b[0;34m.\u001b[0m\u001b[0mNaN\u001b[0m\u001b[0;34m,\u001b[0m \u001b[0mS\u001b[0m\u001b[0;34m.\u001b[0m\u001b[0mInfinity\u001b[0m\u001b[0;34m,\u001b[0m \u001b[0mS\u001b[0m\u001b[0;34m.\u001b[0m\u001b[0mNegativeInfinity\u001b[0m\u001b[0;34m,\u001b[0m \u001b[0mS\u001b[0m\u001b[0;34m.\u001b[0m\u001b[0mComplexInfinity\u001b[0m\u001b[0;34m]\u001b[0m\u001b[0;34m\u001b[0m\u001b[0m\n\u001b[0m\u001b[1;32m    175\u001b[0m \u001b[0;34m\u001b[0m\u001b[0m\n\u001b[1;32m    176\u001b[0m \u001b[0;34m\u001b[0m\u001b[0m\n",
      "\u001b[0;32m/home/daniel/anaconda3/lib/python3.6/site-packages/sympy/core/numbers.py\u001b[0m in \u001b[0;36m__eq__\u001b[0;34m(self, other)\u001b[0m\n\u001b[1;32m   1488\u001b[0m     \u001b[0;32mdef\u001b[0m \u001b[0m__eq__\u001b[0m\u001b[0;34m(\u001b[0m\u001b[0mself\u001b[0m\u001b[0;34m,\u001b[0m \u001b[0mother\u001b[0m\u001b[0;34m)\u001b[0m\u001b[0;34m:\u001b[0m\u001b[0;34m\u001b[0m\u001b[0m\n\u001b[1;32m   1489\u001b[0m         \u001b[0;32mtry\u001b[0m\u001b[0;34m:\u001b[0m\u001b[0;34m\u001b[0m\u001b[0m\n\u001b[0;32m-> 1490\u001b[0;31m             \u001b[0mother\u001b[0m \u001b[0;34m=\u001b[0m \u001b[0m_sympify\u001b[0m\u001b[0;34m(\u001b[0m\u001b[0mother\u001b[0m\u001b[0;34m)\u001b[0m\u001b[0;34m\u001b[0m\u001b[0m\n\u001b[0m\u001b[1;32m   1491\u001b[0m         \u001b[0;32mexcept\u001b[0m \u001b[0mSympifyError\u001b[0m\u001b[0;34m:\u001b[0m\u001b[0;34m\u001b[0m\u001b[0m\n\u001b[1;32m   1492\u001b[0m             \u001b[0;32mreturn\u001b[0m \u001b[0;32mFalse\u001b[0m    \u001b[0;31m# sympy != other  -->  not ==\u001b[0m\u001b[0;34m\u001b[0m\u001b[0m\n",
      "\u001b[0;32m/home/daniel/anaconda3/lib/python3.6/site-packages/sympy/core/sympify.py\u001b[0m in \u001b[0;36m_sympify\u001b[0;34m(a)\u001b[0m\n\u001b[1;32m    353\u001b[0m \u001b[0;34m\u001b[0m\u001b[0m\n\u001b[1;32m    354\u001b[0m     \"\"\"\n\u001b[0;32m--> 355\u001b[0;31m     \u001b[0;32mreturn\u001b[0m \u001b[0msympify\u001b[0m\u001b[0;34m(\u001b[0m\u001b[0ma\u001b[0m\u001b[0;34m,\u001b[0m \u001b[0mstrict\u001b[0m\u001b[0;34m=\u001b[0m\u001b[0;32mTrue\u001b[0m\u001b[0;34m)\u001b[0m\u001b[0;34m\u001b[0m\u001b[0m\n\u001b[0m\u001b[1;32m    356\u001b[0m \u001b[0;34m\u001b[0m\u001b[0m\n\u001b[1;32m    357\u001b[0m \u001b[0;34m\u001b[0m\u001b[0m\n",
      "\u001b[0;32m/home/daniel/anaconda3/lib/python3.6/site-packages/sympy/core/sympify.py\u001b[0m in \u001b[0;36msympify\u001b[0;34m(a, locals, convert_xor, strict, rational, evaluate)\u001b[0m\n\u001b[1;32m    234\u001b[0m         \u001b[0mevaluate\u001b[0m \u001b[0;34m=\u001b[0m \u001b[0mglobal_evaluate\u001b[0m\u001b[0;34m[\u001b[0m\u001b[0;36m0\u001b[0m\u001b[0;34m]\u001b[0m\u001b[0;34m\u001b[0m\u001b[0m\n\u001b[1;32m    235\u001b[0m     \u001b[0;32mtry\u001b[0m\u001b[0;34m:\u001b[0m\u001b[0;34m\u001b[0m\u001b[0m\n\u001b[0;32m--> 236\u001b[0;31m         \u001b[0;32mif\u001b[0m \u001b[0ma\u001b[0m \u001b[0;32min\u001b[0m \u001b[0msympy_classes\u001b[0m\u001b[0;34m:\u001b[0m\u001b[0;34m\u001b[0m\u001b[0m\n\u001b[0m\u001b[1;32m    237\u001b[0m             \u001b[0;32mreturn\u001b[0m \u001b[0ma\u001b[0m\u001b[0;34m\u001b[0m\u001b[0m\n\u001b[1;32m    238\u001b[0m     \u001b[0;32mexcept\u001b[0m \u001b[0mTypeError\u001b[0m\u001b[0;34m:\u001b[0m \u001b[0;31m# Type of a is unhashable\u001b[0m\u001b[0;34m\u001b[0m\u001b[0m\n",
      "\u001b[0;32m/home/daniel/anaconda3/lib/python3.6/site-packages/sympy/core/numbers.py\u001b[0m in \u001b[0;36m__hash__\u001b[0;34m(self)\u001b[0m\n\u001b[1;32m   2759\u001b[0m \u001b[0;34m\u001b[0m\u001b[0m\n\u001b[1;32m   2760\u001b[0m     \u001b[0;32mdef\u001b[0m \u001b[0m__hash__\u001b[0m\u001b[0;34m(\u001b[0m\u001b[0mself\u001b[0m\u001b[0;34m)\u001b[0m\u001b[0;34m:\u001b[0m\u001b[0;34m\u001b[0m\u001b[0m\n\u001b[0;32m-> 2761\u001b[0;31m         \u001b[0;32mreturn\u001b[0m \u001b[0msuper\u001b[0m\u001b[0;34m(\u001b[0m\u001b[0mNegativeInfinity\u001b[0m\u001b[0;34m,\u001b[0m \u001b[0mself\u001b[0m\u001b[0;34m)\u001b[0m\u001b[0;34m.\u001b[0m\u001b[0m__hash__\u001b[0m\u001b[0;34m(\u001b[0m\u001b[0;34m)\u001b[0m\u001b[0;34m\u001b[0m\u001b[0m\n\u001b[0m\u001b[1;32m   2762\u001b[0m \u001b[0;34m\u001b[0m\u001b[0m\n\u001b[1;32m   2763\u001b[0m     \u001b[0;32mdef\u001b[0m \u001b[0m__eq__\u001b[0m\u001b[0;34m(\u001b[0m\u001b[0mself\u001b[0m\u001b[0;34m,\u001b[0m \u001b[0mother\u001b[0m\u001b[0;34m)\u001b[0m\u001b[0;34m:\u001b[0m\u001b[0;34m\u001b[0m\u001b[0m\n",
      "\u001b[0;31mKeyboardInterrupt\u001b[0m: "
     ]
    }
   ],
   "source": [
    "Grobner([a**2*c-2*a**2-c+2,a*b**3-a,d**2*b**4*a**3-d**2*b**4-16*a**3+16],'lex')"
   ]
  },
  {
   "cell_type": "markdown",
   "metadata": {},
   "source": [
    "**7. Fijado el orden lexicográfico gradudado con $x>y>z>t$, calcular la base de Gröber reducida de**\n",
    "$$\\{x^2z-2x^2-z+2,xy^3-x,t^2y^4x^3-t^2y^4-16x^3+16\\}$$\n",
    "**respecto a dicho orden.**"
   ]
  },
  {
   "cell_type": "markdown",
   "metadata": {},
   "source": [
    "**8. ¿Cuántas soluciones tiene el sistema**\n",
    "$$\\{x^2y-2x^2-y+2=0,$$\n",
    "$$txz^3-tx-3tz^3+3t=0,$$\n",
    "$$ty^4-16t=0\\}?$$"
   ]
  },
  {
   "cell_type": "markdown",
   "metadata": {},
   "source": [
    "**9. ¿Cuántas soluciones tiene el sistema**\n",
    "$$\\{x^2zy+2x^2-zy-2=0,$$\n",
    "$$z^3xy-3z^3-2xy+6=0,$$\n",
    "$$y^4-16=0\\}?$$"
   ]
  },
  {
   "cell_type": "markdown",
   "metadata": {},
   "source": [
    "**10. ¿Cuántas soluciones tiene el sistema**\n",
    "$$\\{x^2zy+2x^2-zy-2=0,$$\n",
    "$$z^2xy-3z^2-xy+3=0,$$\n",
    "$$y^2-16=0\\}?$$"
   ]
  },
  {
   "cell_type": "markdown",
   "metadata": {},
   "source": [
    "**11. En el ideal generado por**\n",
    "$$\\{x^2zy+2x^2-zy-2,z^3xy-3z^3-2xy+6,y^4-16\\},$$\n",
    "**¿hay algún polinoio sólo en la variable $x$?**"
   ]
  },
  {
   "cell_type": "markdown",
   "metadata": {},
   "source": [
    "**12. En el ideal generado por**\n",
    "$$x^2y-2x^2-y+2,txz^3-tx+3tz^3+3t,ty^4-16t\\},$$\n",
    "**¿hay algún polinomio sólo en la variable $t$?**"
   ]
  },
  {
   "cell_type": "markdown",
   "metadata": {},
   "source": [
    "**13. Resolver el sistema**\n",
    "$$\\{x^2zy+2x^2-zy-2=0,$$\n",
    "$$z^2xy-3z^2-xy+3=0,$$\n",
    "$$y^2-16=0\\}.$$"
   ]
  }
 ],
 "metadata": {
  "kernelspec": {
   "display_name": "Python 3",
   "language": "python",
   "name": "python3"
  },
  "language_info": {
   "codemirror_mode": {
    "name": "ipython",
    "version": 3
   },
   "file_extension": ".py",
   "mimetype": "text/x-python",
   "name": "python",
   "nbconvert_exporter": "python",
   "pygments_lexer": "ipython3",
   "version": "3.6.0"
  }
 },
 "nbformat": 4,
 "nbformat_minor": 2
}
