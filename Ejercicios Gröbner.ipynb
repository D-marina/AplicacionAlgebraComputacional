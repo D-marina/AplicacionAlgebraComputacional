{
 "cells": [
  {
   "cell_type": "markdown",
   "metadata": {},
   "source": [
    "# Ejercicios Gröbner"
   ]
  },
  {
   "cell_type": "markdown",
   "metadata": {},
   "source": [
    "## Daniel Marín Aragón"
   ]
  },
  {
   "cell_type": "markdown",
   "metadata": {},
   "source": [
    "**1. Fijado el orden lexicográfico con $x>y>z>t$, el monomio de mayor orden es:**\n",
    "\n",
    "a) $x^2yz$.\n",
    "\n",
    "b) $xy^5t$.\n",
    "\n",
    "c) $yzt^6$.\n",
    "\n",
    "d) $x^3$."
   ]
  },
  {
   "cell_type": "code",
   "execution_count": 30,
   "metadata": {
    "collapsed": true
   },
   "outputs": [],
   "source": [
    "# Esta función devuelve True si b<a y False en caso contrario\n",
    "def OrdenLexicografico(b,a):\n",
    "    aux = [x-y for x,y in zip(a,b)]\n",
    "    n = len(aux)\n",
    "    for i in range(n):\n",
    "        if(aux[i] != 0):\n",
    "            if(aux[i] > 0):\n",
    "                return(True)\n",
    "            else:\n",
    "                return(False)\n",
    "    return(True)"
   ]
  },
  {
   "cell_type": "code",
   "execution_count": 31,
   "metadata": {
    "collapsed": true
   },
   "outputs": [],
   "source": [
    "def Maximo(lista,orden):\n",
    "    n = len(lista)\n",
    "    aux = lista[0]\n",
    "    for i in range(n-1):\n",
    "        if(orden(aux,lista[i+1])):\n",
    "            aux = lista[i+1]\n",
    "    return(aux)"
   ]
  },
  {
   "cell_type": "code",
   "execution_count": 32,
   "metadata": {
    "collapsed": false
   },
   "outputs": [
    {
     "data": {
      "text/plain": [
       "[3, 0, 0, 0]"
      ]
     },
     "execution_count": 32,
     "metadata": {},
     "output_type": "execute_result"
    }
   ],
   "source": [
    "Maximo([[2,1,1,0],[1,5,0,1],[0,1,1,6],[3,0,0,0]],OrdenLexicografico)"
   ]
  },
  {
   "cell_type": "markdown",
   "metadata": {},
   "source": [
    "El mayor monomio es d) $x^3$."
   ]
  },
  {
   "cell_type": "markdown",
   "metadata": {},
   "source": [
    "**2. Fijado el orden lexicográfico graduado con $x>y>z>t$, el monomio de mayor orden es:**\n",
    "\n",
    "a) $x^2yz$.\n",
    "\n",
    "b) $xy^5t$.\n",
    "\n",
    "c) $yzt^6$.\n",
    "\n",
    "d) $x^3$."
   ]
  },
  {
   "cell_type": "code",
   "execution_count": 33,
   "metadata": {
    "collapsed": false
   },
   "outputs": [],
   "source": [
    "# Esta función devuelve True si b<a y False en caso contrario.\n",
    "def OrdenLexicograficoGraduado(b,a):\n",
    "    sumA = sum(a)\n",
    "    sumB = sum(b)\n",
    "    if(sumA == 0):\n",
    "        return(False)\n",
    "    if(sumB<sumA):\n",
    "        return(True)\n",
    "    if(sumA == sumB and OrdenLexicografico(b,a)):\n",
    "        return(True)\n",
    "    else:\n",
    "        return(False)"
   ]
  },
  {
   "cell_type": "code",
   "execution_count": 45,
   "metadata": {
    "collapsed": false
   },
   "outputs": [
    {
     "data": {
      "text/plain": [
       "[0, 1, 1, 6]"
      ]
     },
     "execution_count": 45,
     "metadata": {},
     "output_type": "execute_result"
    }
   ],
   "source": [
    "Maximo([[2,1,1,0],[1,5,0,1],[0,1,1,6],[3,0,0,0]],OrdenLexicograficoGraduado)"
   ]
  },
  {
   "cell_type": "markdown",
   "metadata": {},
   "source": [
    "El mayor monomio es c) $yzt^6$."
   ]
  },
  {
   "cell_type": "markdown",
   "metadata": {},
   "source": [
    "**3. Fijado el orden lexicográfico graduado con $x>y>z>t$, ordenar, de mayor a menor los siguientes monomios:**\n",
    "$$x^2yz,xy^5t,yzt^6,x^3.$$"
   ]
  },
  {
   "cell_type": "code",
   "execution_count": 34,
   "metadata": {
    "collapsed": true
   },
   "outputs": [],
   "source": [
    "def Ordenar(Lista,orden):\n",
    "    lista = [x for x in Lista]\n",
    "    n = len(lista)\n",
    "    laux = []\n",
    "    for i in range(n):\n",
    "        aux = Maximo(lista,orden)\n",
    "        laux.append(aux)\n",
    "        lista.remove(aux)\n",
    "    return(laux)\n",
    "    "
   ]
  },
  {
   "cell_type": "code",
   "execution_count": 46,
   "metadata": {
    "collapsed": false
   },
   "outputs": [
    {
     "data": {
      "text/plain": [
       "[[0, 1, 1, 6], [1, 5, 0, 1], [2, 1, 1, 0], [3, 0, 0, 0]]"
      ]
     },
     "execution_count": 46,
     "metadata": {},
     "output_type": "execute_result"
    }
   ],
   "source": [
    "Ordenar([[2,1,1,0],[1,5,0,1],[0,1,1,6],[3,0,0,0]],OrdenLexicograficoGraduado)"
   ]
  },
  {
   "cell_type": "markdown",
   "metadata": {},
   "source": [
    "Los monomios ordenados son: $yzt^6 > xy^5t > x^2yz > x^3$."
   ]
  },
  {
   "cell_type": "markdown",
   "metadata": {},
   "source": [
    "**4. Fijado el orden lexicográfico con $x>y>z>t$, ordenar, de mayor a menor los siguientes monomios:**\n",
    "$$x^2yz,xy^5t,yzt^6,x^3.$$"
   ]
  },
  {
   "cell_type": "code",
   "execution_count": 11,
   "metadata": {
    "collapsed": false
   },
   "outputs": [
    {
     "data": {
      "text/plain": [
       "[[3, 0, 0, 0], [2, 1, 1, 0], [1, 5, 0, 1], [0, 1, 1, 6]]"
      ]
     },
     "execution_count": 11,
     "metadata": {},
     "output_type": "execute_result"
    }
   ],
   "source": [
    "Ordenar([[2,1,1,0],[1,5,0,1],[0,1,1,6],[3,0,0,0]],OrdenLexicografico)"
   ]
  },
  {
   "cell_type": "markdown",
   "metadata": {},
   "source": [
    "\n",
    "Los monomios ordenados son: $x^3 > x^2yz > xy^5t > yzt^6$."
   ]
  },
  {
   "cell_type": "markdown",
   "metadata": {},
   "source": [
    "**5. Fijado el orden lexicográfico con $x>y>z>t$, calcular la base de Gröbner reducida de**\n",
    "$$\\{x^2y-2x^2-y+2,txz^3-tx-3tz^3+3t,ty^4-16t\\}$$\n",
    "**respecto a dicho orden.**"
   ]
  },
  {
   "cell_type": "markdown",
   "metadata": {},
   "source": [
    "Con el fin poder usar las funciones disponibles en *sympy*, en particular los órdenes monoidales, haremos el siguiente cambio de variables:\n",
    "$$x=a,\\quad y=b,\\quad z=c, \\quad t=d.$$\n",
    "Así, los polinomios que tenemos serían:\n",
    "$$f_1(a,b,c,d) = a^2b-2x^2-b+2$$\n",
    "$$f_2(a,b,c,d) = ac^3d-ad-3c^3d+3d$$\n",
    "$$f_3(a,b,c,d) = b^4d-16d$$"
   ]
  },
  {
   "cell_type": "code",
   "execution_count": 1,
   "metadata": {
    "collapsed": true
   },
   "outputs": [],
   "source": [
    "import sympy\n",
    "from sympy import symbols,div,lcm,LC,LM,expand\n",
    "\n",
    "a,b,c,d = symbols('a,b,c,d')"
   ]
  },
  {
   "cell_type": "code",
   "execution_count": 2,
   "metadata": {
    "collapsed": false
   },
   "outputs": [],
   "source": [
    "# Esta función calcula el S polinomio.\n",
    "def Spolinomio(f,g,orden):\n",
    "    ca = LC(f,order=orden)\n",
    "    xa = LM(f,order=orden)\n",
    "    cb = LC(g,order=orden)\n",
    "    xb = LM(g,order=orden)\n",
    "    cxm=lcm(ca*xa,cb*xb,order=orden)\n",
    "    s = div(cxm,ca*xa,order=orden)[0]*f - div(cxm,cb*xb,order=orden)[0]*g\n",
    "    return(expand(s))"
   ]
  },
  {
   "cell_type": "code",
   "execution_count": 3,
   "metadata": {
    "collapsed": false
   },
   "outputs": [
    {
     "data": {
      "text/plain": [
       "-2*a**2 + 4*a*b**3 + a*b"
      ]
     },
     "execution_count": 3,
     "metadata": {},
     "output_type": "execute_result"
    }
   ],
   "source": [
    "Spolinomio(2*a**2*b+4*a*b**2+a,b**2+1,'lex')"
   ]
  },
  {
   "cell_type": "code",
   "execution_count": 54,
   "metadata": {
    "collapsed": true
   },
   "outputs": [],
   "source": [
    "# Esta función nos permite ordenar los polinomios según sus coeficientes líderes.\n",
    "def OrdenarPolinomios(fam,orden):\n",
    "    n = len(fam)\n",
    "    # Hacemos una matriz con coeficientes líderes & polinomios\n",
    "    lista = [[LM(fam[i],order=orden),fam[i] ] for i in range(n)]\n",
    "    laux = []\n",
    "    for i in range(n):\n",
    "        # Hacemos una lista con los coeficientes líderes.\n",
    "        listacoeflid = [j[0] for j in lista]\n",
    "        # Hacemos un polinomio con los coeficientes líderes.\n",
    "        polider = sum(listacoeflid)\n",
    "        # Buscamos su máximo.\n",
    "        aux = LM(polider,order=orden)\n",
    "        # Guardamos su posición.\n",
    "        posaux = listacoeflid.index(aux)\n",
    "        # Añadimos el polinomio a una lista auxiliar\n",
    "        laux.append(lista[posaux][1])\n",
    "        lista.remove([aux,lista[posaux][1]])\n",
    "    return(laux)"
   ]
  },
  {
   "cell_type": "code",
   "execution_count": 92,
   "metadata": {
    "collapsed": false
   },
   "outputs": [],
   "source": [
    "# Esta función fuerza la división.\n",
    "def DivF(faux,gaux,orden):\n",
    "    continuar = True\n",
    "    f = faux\n",
    "    g = gaux\n",
    "    while(continuar):\n",
    "        ca = LC(f,order=orden)\n",
    "        xa = LM(f,order=orden)\n",
    "        cb = LC(g,order=orden)\n",
    "        xb = LM(g,order=orden)\n",
    "        q,r = div(ca*xa,cb*xb,order=orden)\n",
    "        if(r == 0):\n",
    "            f = faux-q*gaux\n",
    "            continuar = False\n",
    "        else:\n",
    "            f = f-ca*xa\n",
    "        if(g == 0 or f == 0):\n",
    "            continuar = False\n",
    "    return(f)"
   ]
  },
  {
   "cell_type": "code",
   "execution_count": 146,
   "metadata": {
    "collapsed": false
   },
   "outputs": [
    {
     "ename": "ComputationFailed",
     "evalue": "LC(1) failed without generators",
     "output_type": "error",
     "traceback": [
      "\u001b[1;31m---------------------------------------------------------------------------\u001b[0m",
      "\u001b[1;31mGeneratorsNeeded\u001b[0m                          Traceback (most recent call last)",
      "\u001b[1;32m/home/kirtash/anaconda3/lib/python3.5/site-packages/sympy/polys/polytools.py\u001b[0m in \u001b[0;36m_poly_from_expr\u001b[1;34m(expr, opt)\u001b[0m\n\u001b[0;32m   4099\u001b[0m     \u001b[1;32mtry\u001b[0m\u001b[1;33m:\u001b[0m\u001b[1;33m\u001b[0m\u001b[0m\n\u001b[1;32m-> 4100\u001b[1;33m         \u001b[0mrep\u001b[0m\u001b[1;33m,\u001b[0m \u001b[0mopt\u001b[0m \u001b[1;33m=\u001b[0m \u001b[0m_dict_from_expr\u001b[0m\u001b[1;33m(\u001b[0m\u001b[0mexpr\u001b[0m\u001b[1;33m,\u001b[0m \u001b[0mopt\u001b[0m\u001b[1;33m)\u001b[0m\u001b[1;33m\u001b[0m\u001b[0m\n\u001b[0m\u001b[0;32m   4101\u001b[0m     \u001b[1;32mexcept\u001b[0m \u001b[0mGeneratorsNeeded\u001b[0m\u001b[1;33m:\u001b[0m\u001b[1;33m\u001b[0m\u001b[0m\n",
      "\u001b[1;32m/home/kirtash/anaconda3/lib/python3.5/site-packages/sympy/polys/polyutils.py\u001b[0m in \u001b[0;36m_dict_from_expr\u001b[1;34m(expr, opt)\u001b[0m\n\u001b[0;32m    331\u001b[0m     \u001b[1;32melse\u001b[0m\u001b[1;33m:\u001b[0m\u001b[1;33m\u001b[0m\u001b[0m\n\u001b[1;32m--> 332\u001b[1;33m         \u001b[0mrep\u001b[0m\u001b[1;33m,\u001b[0m \u001b[0mgens\u001b[0m \u001b[1;33m=\u001b[0m \u001b[0m_dict_from_expr_no_gens\u001b[0m\u001b[1;33m(\u001b[0m\u001b[0mexpr\u001b[0m\u001b[1;33m,\u001b[0m \u001b[0mopt\u001b[0m\u001b[1;33m)\u001b[0m\u001b[1;33m\u001b[0m\u001b[0m\n\u001b[0m\u001b[0;32m    333\u001b[0m \u001b[1;33m\u001b[0m\u001b[0m\n",
      "\u001b[1;32m/home/kirtash/anaconda3/lib/python3.5/site-packages/sympy/polys/polyutils.py\u001b[0m in \u001b[0;36m_dict_from_expr_no_gens\u001b[1;34m(expr, opt)\u001b[0m\n\u001b[0;32m    276\u001b[0m     \u001b[1;34m\"\"\"Transform an expression into a multinomial form and figure out generators. \"\"\"\u001b[0m\u001b[1;33m\u001b[0m\u001b[0m\n\u001b[1;32m--> 277\u001b[1;33m     \u001b[1;33m(\u001b[0m\u001b[0mpoly\u001b[0m\u001b[1;33m,\u001b[0m\u001b[1;33m)\u001b[0m\u001b[1;33m,\u001b[0m \u001b[0mgens\u001b[0m \u001b[1;33m=\u001b[0m \u001b[0m_parallel_dict_from_expr_no_gens\u001b[0m\u001b[1;33m(\u001b[0m\u001b[1;33m(\u001b[0m\u001b[0mexpr\u001b[0m\u001b[1;33m,\u001b[0m\u001b[1;33m)\u001b[0m\u001b[1;33m,\u001b[0m \u001b[0mopt\u001b[0m\u001b[1;33m)\u001b[0m\u001b[1;33m\u001b[0m\u001b[0m\n\u001b[0m\u001b[0;32m    278\u001b[0m     \u001b[1;32mreturn\u001b[0m \u001b[0mpoly\u001b[0m\u001b[1;33m,\u001b[0m \u001b[0mgens\u001b[0m\u001b[1;33m\u001b[0m\u001b[0m\n",
      "\u001b[1;32m/home/kirtash/anaconda3/lib/python3.5/site-packages/sympy/polys/polyutils.py\u001b[0m in \u001b[0;36m_parallel_dict_from_expr_no_gens\u001b[1;34m(exprs, opt)\u001b[0m\n\u001b[0;32m    237\u001b[0m \u001b[1;33m\u001b[0m\u001b[0m\n\u001b[1;32m--> 238\u001b[1;33m         \u001b[1;32mraise\u001b[0m \u001b[0mGeneratorsNeeded\u001b[0m\u001b[1;33m(\u001b[0m\u001b[1;34m\"specify generators to give %s a meaning\"\u001b[0m \u001b[1;33m%\u001b[0m \u001b[0marg\u001b[0m\u001b[1;33m)\u001b[0m\u001b[1;33m\u001b[0m\u001b[0m\n\u001b[0m\u001b[0;32m    239\u001b[0m \u001b[1;33m\u001b[0m\u001b[0m\n",
      "\u001b[1;31mGeneratorsNeeded\u001b[0m: specify generators to give 1 a meaning",
      "\nDuring handling of the above exception, another exception occurred:\n",
      "\u001b[1;31mPolificationFailed\u001b[0m                        Traceback (most recent call last)",
      "\u001b[1;32m/home/kirtash/anaconda3/lib/python3.5/site-packages/sympy/polys/polytools.py\u001b[0m in \u001b[0;36mLC\u001b[1;34m(f, *gens, **args)\u001b[0m\n\u001b[0;32m   4307\u001b[0m     \u001b[1;32mtry\u001b[0m\u001b[1;33m:\u001b[0m\u001b[1;33m\u001b[0m\u001b[0m\n\u001b[1;32m-> 4308\u001b[1;33m         \u001b[0mF\u001b[0m\u001b[1;33m,\u001b[0m \u001b[0mopt\u001b[0m \u001b[1;33m=\u001b[0m \u001b[0mpoly_from_expr\u001b[0m\u001b[1;33m(\u001b[0m\u001b[0mf\u001b[0m\u001b[1;33m,\u001b[0m \u001b[1;33m*\u001b[0m\u001b[0mgens\u001b[0m\u001b[1;33m,\u001b[0m \u001b[1;33m**\u001b[0m\u001b[0margs\u001b[0m\u001b[1;33m)\u001b[0m\u001b[1;33m\u001b[0m\u001b[0m\n\u001b[0m\u001b[0;32m   4309\u001b[0m     \u001b[1;32mexcept\u001b[0m \u001b[0mPolificationFailed\u001b[0m \u001b[1;32mas\u001b[0m \u001b[0mexc\u001b[0m\u001b[1;33m:\u001b[0m\u001b[1;33m\u001b[0m\u001b[0m\n",
      "\u001b[1;32m/home/kirtash/anaconda3/lib/python3.5/site-packages/sympy/polys/polytools.py\u001b[0m in \u001b[0;36mpoly_from_expr\u001b[1;34m(expr, *gens, **args)\u001b[0m\n\u001b[0;32m   4076\u001b[0m     \u001b[0mopt\u001b[0m \u001b[1;33m=\u001b[0m \u001b[0moptions\u001b[0m\u001b[1;33m.\u001b[0m\u001b[0mbuild_options\u001b[0m\u001b[1;33m(\u001b[0m\u001b[0mgens\u001b[0m\u001b[1;33m,\u001b[0m \u001b[0margs\u001b[0m\u001b[1;33m)\u001b[0m\u001b[1;33m\u001b[0m\u001b[0m\n\u001b[1;32m-> 4077\u001b[1;33m     \u001b[1;32mreturn\u001b[0m \u001b[0m_poly_from_expr\u001b[0m\u001b[1;33m(\u001b[0m\u001b[0mexpr\u001b[0m\u001b[1;33m,\u001b[0m \u001b[0mopt\u001b[0m\u001b[1;33m)\u001b[0m\u001b[1;33m\u001b[0m\u001b[0m\n\u001b[0m\u001b[0;32m   4078\u001b[0m \u001b[1;33m\u001b[0m\u001b[0m\n",
      "\u001b[1;32m/home/kirtash/anaconda3/lib/python3.5/site-packages/sympy/polys/polytools.py\u001b[0m in \u001b[0;36m_poly_from_expr\u001b[1;34m(expr, opt)\u001b[0m\n\u001b[0;32m   4101\u001b[0m     \u001b[1;32mexcept\u001b[0m \u001b[0mGeneratorsNeeded\u001b[0m\u001b[1;33m:\u001b[0m\u001b[1;33m\u001b[0m\u001b[0m\n\u001b[1;32m-> 4102\u001b[1;33m         \u001b[1;32mraise\u001b[0m \u001b[0mPolificationFailed\u001b[0m\u001b[1;33m(\u001b[0m\u001b[0mopt\u001b[0m\u001b[1;33m,\u001b[0m \u001b[0morig\u001b[0m\u001b[1;33m,\u001b[0m \u001b[0mexpr\u001b[0m\u001b[1;33m)\u001b[0m\u001b[1;33m\u001b[0m\u001b[0m\n\u001b[0m\u001b[0;32m   4103\u001b[0m \u001b[1;33m\u001b[0m\u001b[0m\n",
      "\u001b[1;31mPolificationFailed\u001b[0m: can't construct a polynomial from 1",
      "\nDuring handling of the above exception, another exception occurred:\n",
      "\u001b[1;31mComputationFailed\u001b[0m                         Traceback (most recent call last)",
      "\u001b[1;32m<ipython-input-146-f4355e653dba>\u001b[0m in \u001b[0;36m<module>\u001b[1;34m()\u001b[0m\n\u001b[1;32m----> 1\u001b[1;33m \u001b[0mDivF\u001b[0m\u001b[1;33m(\u001b[0m\u001b[0ma\u001b[0m\u001b[1;33m**\u001b[0m\u001b[1;36m2\u001b[0m \u001b[1;33m+\u001b[0m \u001b[1;36m2\u001b[0m\u001b[1;33m*\u001b[0m\u001b[0mb\u001b[0m\u001b[1;33m**\u001b[0m\u001b[1;36m3\u001b[0m \u001b[1;33m-\u001b[0m \u001b[1;36m4\u001b[0m\u001b[1;33m*\u001b[0m\u001b[0mb\u001b[0m \u001b[1;33m+\u001b[0m \u001b[1;36m1\u001b[0m\u001b[1;33m,\u001b[0m\u001b[0ma\u001b[0m\u001b[1;33m**\u001b[0m\u001b[1;36m2\u001b[0m\u001b[1;33m*\u001b[0m\u001b[0mb\u001b[0m \u001b[1;33m-\u001b[0m \u001b[0ma\u001b[0m\u001b[1;33m**\u001b[0m\u001b[1;36m2\u001b[0m \u001b[1;33m+\u001b[0m \u001b[0mb\u001b[0m \u001b[1;33m-\u001b[0m \u001b[1;36m1\u001b[0m\u001b[1;33m,\u001b[0m\u001b[1;34m'lex'\u001b[0m\u001b[1;33m)\u001b[0m\u001b[1;33m\u001b[0m\u001b[0m\n\u001b[0m",
      "\u001b[1;32m<ipython-input-92-6582a039f042>\u001b[0m in \u001b[0;36mDivF\u001b[1;34m(faux, gaux, orden)\u001b[0m\n\u001b[0;32m      5\u001b[0m     \u001b[0mg\u001b[0m \u001b[1;33m=\u001b[0m \u001b[0mgaux\u001b[0m\u001b[1;33m\u001b[0m\u001b[0m\n\u001b[0;32m      6\u001b[0m     \u001b[1;32mwhile\u001b[0m\u001b[1;33m(\u001b[0m\u001b[0mcontinuar\u001b[0m\u001b[1;33m)\u001b[0m\u001b[1;33m:\u001b[0m\u001b[1;33m\u001b[0m\u001b[0m\n\u001b[1;32m----> 7\u001b[1;33m         \u001b[0mca\u001b[0m \u001b[1;33m=\u001b[0m \u001b[0mLC\u001b[0m\u001b[1;33m(\u001b[0m\u001b[0mf\u001b[0m\u001b[1;33m,\u001b[0m\u001b[0morder\u001b[0m\u001b[1;33m=\u001b[0m\u001b[0morden\u001b[0m\u001b[1;33m)\u001b[0m\u001b[1;33m\u001b[0m\u001b[0m\n\u001b[0m\u001b[0;32m      8\u001b[0m         \u001b[0mxa\u001b[0m \u001b[1;33m=\u001b[0m \u001b[0mLM\u001b[0m\u001b[1;33m(\u001b[0m\u001b[0mf\u001b[0m\u001b[1;33m,\u001b[0m\u001b[0morder\u001b[0m\u001b[1;33m=\u001b[0m\u001b[0morden\u001b[0m\u001b[1;33m)\u001b[0m\u001b[1;33m\u001b[0m\u001b[0m\n\u001b[0;32m      9\u001b[0m         \u001b[0mcb\u001b[0m \u001b[1;33m=\u001b[0m \u001b[0mLC\u001b[0m\u001b[1;33m(\u001b[0m\u001b[0mg\u001b[0m\u001b[1;33m,\u001b[0m\u001b[0morder\u001b[0m\u001b[1;33m=\u001b[0m\u001b[0morden\u001b[0m\u001b[1;33m)\u001b[0m\u001b[1;33m\u001b[0m\u001b[0m\n",
      "\u001b[1;32m/home/kirtash/anaconda3/lib/python3.5/site-packages/sympy/polys/polytools.py\u001b[0m in \u001b[0;36mLC\u001b[1;34m(f, *gens, **args)\u001b[0m\n\u001b[0;32m   4308\u001b[0m         \u001b[0mF\u001b[0m\u001b[1;33m,\u001b[0m \u001b[0mopt\u001b[0m \u001b[1;33m=\u001b[0m \u001b[0mpoly_from_expr\u001b[0m\u001b[1;33m(\u001b[0m\u001b[0mf\u001b[0m\u001b[1;33m,\u001b[0m \u001b[1;33m*\u001b[0m\u001b[0mgens\u001b[0m\u001b[1;33m,\u001b[0m \u001b[1;33m**\u001b[0m\u001b[0margs\u001b[0m\u001b[1;33m)\u001b[0m\u001b[1;33m\u001b[0m\u001b[0m\n\u001b[0;32m   4309\u001b[0m     \u001b[1;32mexcept\u001b[0m \u001b[0mPolificationFailed\u001b[0m \u001b[1;32mas\u001b[0m \u001b[0mexc\u001b[0m\u001b[1;33m:\u001b[0m\u001b[1;33m\u001b[0m\u001b[0m\n\u001b[1;32m-> 4310\u001b[1;33m         \u001b[1;32mraise\u001b[0m \u001b[0mComputationFailed\u001b[0m\u001b[1;33m(\u001b[0m\u001b[1;34m'LC'\u001b[0m\u001b[1;33m,\u001b[0m \u001b[1;36m1\u001b[0m\u001b[1;33m,\u001b[0m \u001b[0mexc\u001b[0m\u001b[1;33m)\u001b[0m\u001b[1;33m\u001b[0m\u001b[0m\n\u001b[0m\u001b[0;32m   4311\u001b[0m \u001b[1;33m\u001b[0m\u001b[0m\n\u001b[0;32m   4312\u001b[0m     \u001b[1;32mreturn\u001b[0m \u001b[0mF\u001b[0m\u001b[1;33m.\u001b[0m\u001b[0mLC\u001b[0m\u001b[1;33m(\u001b[0m\u001b[0morder\u001b[0m\u001b[1;33m=\u001b[0m\u001b[0mopt\u001b[0m\u001b[1;33m.\u001b[0m\u001b[0morder\u001b[0m\u001b[1;33m)\u001b[0m\u001b[1;33m\u001b[0m\u001b[0m\n",
      "\u001b[1;31mComputationFailed\u001b[0m: LC(1) failed without generators"
     ]
    }
   ],
   "source": [
    "DivF(a**2 + 2*b**3 - 4*b + 1,a**2*b - a**2 + b - 1,'lex')"
   ]
  },
  {
   "cell_type": "code",
   "execution_count": 93,
   "metadata": {
    "collapsed": false
   },
   "outputs": [
    {
     "data": {
      "text/plain": [
       "(0, a**2*b - 2*a**2 - a*b**2 + 2*a - b**2 + b)"
      ]
     },
     "execution_count": 93,
     "metadata": {},
     "output_type": "execute_result"
    }
   ],
   "source": [
    "div(a**2*b - 2*a**2 - a*b**2 + 2*a - b**2 + b,a**2*b-a**2+b-1,order='lex')"
   ]
  },
  {
   "cell_type": "code",
   "execution_count": 94,
   "metadata": {
    "collapsed": false
   },
   "outputs": [
    {
     "data": {
      "text/plain": [
       "-a**2 - a*b**2 + 2*a - b**2 + 1"
      ]
     },
     "execution_count": 94,
     "metadata": {},
     "output_type": "execute_result"
    }
   ],
   "source": [
    "DivF(a**2*b - 2*a**2 - a*b**2 + 2*a - b**2 + b, a**2*b-a**2+b-1,'lex')"
   ]
  },
  {
   "cell_type": "code",
   "execution_count": 95,
   "metadata": {
    "collapsed": false
   },
   "outputs": [
    {
     "data": {
      "text/plain": [
       "-a**2 - 2*b**2 + 3"
      ]
     },
     "execution_count": 95,
     "metadata": {},
     "output_type": "execute_result"
    }
   ],
   "source": [
    "DivF(-a**2 - a*b**2 + 2*a - b**2 + 1, a*b**2 - 2*a - b**2 + 2,'lex')"
   ]
  },
  {
   "cell_type": "code",
   "execution_count": 144,
   "metadata": {
    "collapsed": false
   },
   "outputs": [],
   "source": [
    "# Esta función divide un polinomio entre una familia de los mismos y devuelve el resto.\n",
    "def DivFamilia(polinomio,familia,orden):\n",
    "    pol = polinomio\n",
    "    # En primer lugar ordenamos la familia.\n",
    "    fam = OrdenarPolinomios(familia,orden)\n",
    "    # A continuación vamos dividiendo entre cada elemento de la familia.\n",
    "    n = len(familia)\n",
    "    print(fam)\n",
    "    for i in range(n):\n",
    "        print(pol)\n",
    "        if(pol != 0):\n",
    "            pol=DivF(pol,fam[i],orden)\n",
    "    return(pol)"
   ]
  },
  {
   "cell_type": "code",
   "execution_count": 145,
   "metadata": {
    "collapsed": false
   },
   "outputs": [
    {
     "name": "stdout",
     "output_type": "stream",
     "text": [
      "[a**2*b - a**2 + b - 1, -a**2 - 2*b**2 + 3, a*b**2 - 2*a - b**2 + 2]\n",
      "a**2 + 2*b**3 - 4*b + 1\n"
     ]
    },
    {
     "ename": "ComputationFailed",
     "evalue": "LC(1) failed without generators",
     "output_type": "error",
     "traceback": [
      "\u001b[1;31m---------------------------------------------------------------------------\u001b[0m",
      "\u001b[1;31mGeneratorsNeeded\u001b[0m                          Traceback (most recent call last)",
      "\u001b[1;32m/home/kirtash/anaconda3/lib/python3.5/site-packages/sympy/polys/polytools.py\u001b[0m in \u001b[0;36m_poly_from_expr\u001b[1;34m(expr, opt)\u001b[0m\n\u001b[0;32m   4099\u001b[0m     \u001b[1;32mtry\u001b[0m\u001b[1;33m:\u001b[0m\u001b[1;33m\u001b[0m\u001b[0m\n\u001b[1;32m-> 4100\u001b[1;33m         \u001b[0mrep\u001b[0m\u001b[1;33m,\u001b[0m \u001b[0mopt\u001b[0m \u001b[1;33m=\u001b[0m \u001b[0m_dict_from_expr\u001b[0m\u001b[1;33m(\u001b[0m\u001b[0mexpr\u001b[0m\u001b[1;33m,\u001b[0m \u001b[0mopt\u001b[0m\u001b[1;33m)\u001b[0m\u001b[1;33m\u001b[0m\u001b[0m\n\u001b[0m\u001b[0;32m   4101\u001b[0m     \u001b[1;32mexcept\u001b[0m \u001b[0mGeneratorsNeeded\u001b[0m\u001b[1;33m:\u001b[0m\u001b[1;33m\u001b[0m\u001b[0m\n",
      "\u001b[1;32m/home/kirtash/anaconda3/lib/python3.5/site-packages/sympy/polys/polyutils.py\u001b[0m in \u001b[0;36m_dict_from_expr\u001b[1;34m(expr, opt)\u001b[0m\n\u001b[0;32m    331\u001b[0m     \u001b[1;32melse\u001b[0m\u001b[1;33m:\u001b[0m\u001b[1;33m\u001b[0m\u001b[0m\n\u001b[1;32m--> 332\u001b[1;33m         \u001b[0mrep\u001b[0m\u001b[1;33m,\u001b[0m \u001b[0mgens\u001b[0m \u001b[1;33m=\u001b[0m \u001b[0m_dict_from_expr_no_gens\u001b[0m\u001b[1;33m(\u001b[0m\u001b[0mexpr\u001b[0m\u001b[1;33m,\u001b[0m \u001b[0mopt\u001b[0m\u001b[1;33m)\u001b[0m\u001b[1;33m\u001b[0m\u001b[0m\n\u001b[0m\u001b[0;32m    333\u001b[0m \u001b[1;33m\u001b[0m\u001b[0m\n",
      "\u001b[1;32m/home/kirtash/anaconda3/lib/python3.5/site-packages/sympy/polys/polyutils.py\u001b[0m in \u001b[0;36m_dict_from_expr_no_gens\u001b[1;34m(expr, opt)\u001b[0m\n\u001b[0;32m    276\u001b[0m     \u001b[1;34m\"\"\"Transform an expression into a multinomial form and figure out generators. \"\"\"\u001b[0m\u001b[1;33m\u001b[0m\u001b[0m\n\u001b[1;32m--> 277\u001b[1;33m     \u001b[1;33m(\u001b[0m\u001b[0mpoly\u001b[0m\u001b[1;33m,\u001b[0m\u001b[1;33m)\u001b[0m\u001b[1;33m,\u001b[0m \u001b[0mgens\u001b[0m \u001b[1;33m=\u001b[0m \u001b[0m_parallel_dict_from_expr_no_gens\u001b[0m\u001b[1;33m(\u001b[0m\u001b[1;33m(\u001b[0m\u001b[0mexpr\u001b[0m\u001b[1;33m,\u001b[0m\u001b[1;33m)\u001b[0m\u001b[1;33m,\u001b[0m \u001b[0mopt\u001b[0m\u001b[1;33m)\u001b[0m\u001b[1;33m\u001b[0m\u001b[0m\n\u001b[0m\u001b[0;32m    278\u001b[0m     \u001b[1;32mreturn\u001b[0m \u001b[0mpoly\u001b[0m\u001b[1;33m,\u001b[0m \u001b[0mgens\u001b[0m\u001b[1;33m\u001b[0m\u001b[0m\n",
      "\u001b[1;32m/home/kirtash/anaconda3/lib/python3.5/site-packages/sympy/polys/polyutils.py\u001b[0m in \u001b[0;36m_parallel_dict_from_expr_no_gens\u001b[1;34m(exprs, opt)\u001b[0m\n\u001b[0;32m    237\u001b[0m \u001b[1;33m\u001b[0m\u001b[0m\n\u001b[1;32m--> 238\u001b[1;33m         \u001b[1;32mraise\u001b[0m \u001b[0mGeneratorsNeeded\u001b[0m\u001b[1;33m(\u001b[0m\u001b[1;34m\"specify generators to give %s a meaning\"\u001b[0m \u001b[1;33m%\u001b[0m \u001b[0marg\u001b[0m\u001b[1;33m)\u001b[0m\u001b[1;33m\u001b[0m\u001b[0m\n\u001b[0m\u001b[0;32m    239\u001b[0m \u001b[1;33m\u001b[0m\u001b[0m\n",
      "\u001b[1;31mGeneratorsNeeded\u001b[0m: specify generators to give 1 a meaning",
      "\nDuring handling of the above exception, another exception occurred:\n",
      "\u001b[1;31mPolificationFailed\u001b[0m                        Traceback (most recent call last)",
      "\u001b[1;32m/home/kirtash/anaconda3/lib/python3.5/site-packages/sympy/polys/polytools.py\u001b[0m in \u001b[0;36mLC\u001b[1;34m(f, *gens, **args)\u001b[0m\n\u001b[0;32m   4307\u001b[0m     \u001b[1;32mtry\u001b[0m\u001b[1;33m:\u001b[0m\u001b[1;33m\u001b[0m\u001b[0m\n\u001b[1;32m-> 4308\u001b[1;33m         \u001b[0mF\u001b[0m\u001b[1;33m,\u001b[0m \u001b[0mopt\u001b[0m \u001b[1;33m=\u001b[0m \u001b[0mpoly_from_expr\u001b[0m\u001b[1;33m(\u001b[0m\u001b[0mf\u001b[0m\u001b[1;33m,\u001b[0m \u001b[1;33m*\u001b[0m\u001b[0mgens\u001b[0m\u001b[1;33m,\u001b[0m \u001b[1;33m**\u001b[0m\u001b[0margs\u001b[0m\u001b[1;33m)\u001b[0m\u001b[1;33m\u001b[0m\u001b[0m\n\u001b[0m\u001b[0;32m   4309\u001b[0m     \u001b[1;32mexcept\u001b[0m \u001b[0mPolificationFailed\u001b[0m \u001b[1;32mas\u001b[0m \u001b[0mexc\u001b[0m\u001b[1;33m:\u001b[0m\u001b[1;33m\u001b[0m\u001b[0m\n",
      "\u001b[1;32m/home/kirtash/anaconda3/lib/python3.5/site-packages/sympy/polys/polytools.py\u001b[0m in \u001b[0;36mpoly_from_expr\u001b[1;34m(expr, *gens, **args)\u001b[0m\n\u001b[0;32m   4076\u001b[0m     \u001b[0mopt\u001b[0m \u001b[1;33m=\u001b[0m \u001b[0moptions\u001b[0m\u001b[1;33m.\u001b[0m\u001b[0mbuild_options\u001b[0m\u001b[1;33m(\u001b[0m\u001b[0mgens\u001b[0m\u001b[1;33m,\u001b[0m \u001b[0margs\u001b[0m\u001b[1;33m)\u001b[0m\u001b[1;33m\u001b[0m\u001b[0m\n\u001b[1;32m-> 4077\u001b[1;33m     \u001b[1;32mreturn\u001b[0m \u001b[0m_poly_from_expr\u001b[0m\u001b[1;33m(\u001b[0m\u001b[0mexpr\u001b[0m\u001b[1;33m,\u001b[0m \u001b[0mopt\u001b[0m\u001b[1;33m)\u001b[0m\u001b[1;33m\u001b[0m\u001b[0m\n\u001b[0m\u001b[0;32m   4078\u001b[0m \u001b[1;33m\u001b[0m\u001b[0m\n",
      "\u001b[1;32m/home/kirtash/anaconda3/lib/python3.5/site-packages/sympy/polys/polytools.py\u001b[0m in \u001b[0;36m_poly_from_expr\u001b[1;34m(expr, opt)\u001b[0m\n\u001b[0;32m   4101\u001b[0m     \u001b[1;32mexcept\u001b[0m \u001b[0mGeneratorsNeeded\u001b[0m\u001b[1;33m:\u001b[0m\u001b[1;33m\u001b[0m\u001b[0m\n\u001b[1;32m-> 4102\u001b[1;33m         \u001b[1;32mraise\u001b[0m \u001b[0mPolificationFailed\u001b[0m\u001b[1;33m(\u001b[0m\u001b[0mopt\u001b[0m\u001b[1;33m,\u001b[0m \u001b[0morig\u001b[0m\u001b[1;33m,\u001b[0m \u001b[0mexpr\u001b[0m\u001b[1;33m)\u001b[0m\u001b[1;33m\u001b[0m\u001b[0m\n\u001b[0m\u001b[0;32m   4103\u001b[0m \u001b[1;33m\u001b[0m\u001b[0m\n",
      "\u001b[1;31mPolificationFailed\u001b[0m: can't construct a polynomial from 1",
      "\nDuring handling of the above exception, another exception occurred:\n",
      "\u001b[1;31mComputationFailed\u001b[0m                         Traceback (most recent call last)",
      "\u001b[1;32m<ipython-input-145-d48628d79c89>\u001b[0m in \u001b[0;36m<module>\u001b[1;34m()\u001b[0m\n\u001b[1;32m----> 1\u001b[1;33m \u001b[0mDivFamilia\u001b[0m\u001b[1;33m(\u001b[0m\u001b[0ma\u001b[0m\u001b[1;33m**\u001b[0m\u001b[1;36m2\u001b[0m \u001b[1;33m+\u001b[0m \u001b[1;36m2\u001b[0m\u001b[1;33m*\u001b[0m\u001b[0mb\u001b[0m\u001b[1;33m**\u001b[0m\u001b[1;36m3\u001b[0m \u001b[1;33m-\u001b[0m \u001b[1;36m4\u001b[0m\u001b[1;33m*\u001b[0m\u001b[0mb\u001b[0m \u001b[1;33m+\u001b[0m \u001b[1;36m1\u001b[0m\u001b[1;33m,\u001b[0m\u001b[1;33m[\u001b[0m\u001b[0ma\u001b[0m\u001b[1;33m*\u001b[0m\u001b[0mb\u001b[0m\u001b[1;33m**\u001b[0m\u001b[1;36m2\u001b[0m \u001b[1;33m-\u001b[0m \u001b[1;36m2\u001b[0m\u001b[1;33m*\u001b[0m\u001b[0ma\u001b[0m \u001b[1;33m-\u001b[0m \u001b[0mb\u001b[0m\u001b[1;33m**\u001b[0m\u001b[1;36m2\u001b[0m \u001b[1;33m+\u001b[0m \u001b[1;36m2\u001b[0m\u001b[1;33m,\u001b[0m \u001b[0ma\u001b[0m\u001b[1;33m**\u001b[0m\u001b[1;36m2\u001b[0m\u001b[1;33m*\u001b[0m\u001b[0mb\u001b[0m \u001b[1;33m-\u001b[0m \u001b[0ma\u001b[0m\u001b[1;33m**\u001b[0m\u001b[1;36m2\u001b[0m \u001b[1;33m+\u001b[0m \u001b[0mb\u001b[0m \u001b[1;33m-\u001b[0m \u001b[1;36m1\u001b[0m\u001b[1;33m,\u001b[0m \u001b[1;33m-\u001b[0m\u001b[0ma\u001b[0m\u001b[1;33m**\u001b[0m\u001b[1;36m2\u001b[0m \u001b[1;33m-\u001b[0m \u001b[1;36m2\u001b[0m\u001b[1;33m*\u001b[0m\u001b[0mb\u001b[0m\u001b[1;33m**\u001b[0m\u001b[1;36m2\u001b[0m \u001b[1;33m+\u001b[0m \u001b[1;36m3\u001b[0m\u001b[1;33m]\u001b[0m\u001b[1;33m,\u001b[0m\u001b[1;34m'lex'\u001b[0m\u001b[1;33m)\u001b[0m\u001b[1;33m\u001b[0m\u001b[0m\n\u001b[0m",
      "\u001b[1;32m<ipython-input-144-83fb7dd1bee1>\u001b[0m in \u001b[0;36mDivFamilia\u001b[1;34m(polinomio, familia, orden)\u001b[0m\n\u001b[0;32m     10\u001b[0m         \u001b[0mprint\u001b[0m\u001b[1;33m(\u001b[0m\u001b[0mpol\u001b[0m\u001b[1;33m)\u001b[0m\u001b[1;33m\u001b[0m\u001b[0m\n\u001b[0;32m     11\u001b[0m         \u001b[1;32mif\u001b[0m\u001b[1;33m(\u001b[0m\u001b[0mpol\u001b[0m \u001b[1;33m!=\u001b[0m \u001b[1;36m0\u001b[0m\u001b[1;33m)\u001b[0m\u001b[1;33m:\u001b[0m\u001b[1;33m\u001b[0m\u001b[0m\n\u001b[1;32m---> 12\u001b[1;33m             \u001b[0mpol\u001b[0m\u001b[1;33m=\u001b[0m\u001b[0mDivF\u001b[0m\u001b[1;33m(\u001b[0m\u001b[0mpol\u001b[0m\u001b[1;33m,\u001b[0m\u001b[0mfam\u001b[0m\u001b[1;33m[\u001b[0m\u001b[0mi\u001b[0m\u001b[1;33m]\u001b[0m\u001b[1;33m,\u001b[0m\u001b[0morden\u001b[0m\u001b[1;33m)\u001b[0m\u001b[1;33m\u001b[0m\u001b[0m\n\u001b[0m\u001b[0;32m     13\u001b[0m     \u001b[1;32mreturn\u001b[0m\u001b[1;33m(\u001b[0m\u001b[0mpol\u001b[0m\u001b[1;33m)\u001b[0m\u001b[1;33m\u001b[0m\u001b[0m\n",
      "\u001b[1;32m<ipython-input-92-6582a039f042>\u001b[0m in \u001b[0;36mDivF\u001b[1;34m(faux, gaux, orden)\u001b[0m\n\u001b[0;32m      5\u001b[0m     \u001b[0mg\u001b[0m \u001b[1;33m=\u001b[0m \u001b[0mgaux\u001b[0m\u001b[1;33m\u001b[0m\u001b[0m\n\u001b[0;32m      6\u001b[0m     \u001b[1;32mwhile\u001b[0m\u001b[1;33m(\u001b[0m\u001b[0mcontinuar\u001b[0m\u001b[1;33m)\u001b[0m\u001b[1;33m:\u001b[0m\u001b[1;33m\u001b[0m\u001b[0m\n\u001b[1;32m----> 7\u001b[1;33m         \u001b[0mca\u001b[0m \u001b[1;33m=\u001b[0m \u001b[0mLC\u001b[0m\u001b[1;33m(\u001b[0m\u001b[0mf\u001b[0m\u001b[1;33m,\u001b[0m\u001b[0morder\u001b[0m\u001b[1;33m=\u001b[0m\u001b[0morden\u001b[0m\u001b[1;33m)\u001b[0m\u001b[1;33m\u001b[0m\u001b[0m\n\u001b[0m\u001b[0;32m      8\u001b[0m         \u001b[0mxa\u001b[0m \u001b[1;33m=\u001b[0m \u001b[0mLM\u001b[0m\u001b[1;33m(\u001b[0m\u001b[0mf\u001b[0m\u001b[1;33m,\u001b[0m\u001b[0morder\u001b[0m\u001b[1;33m=\u001b[0m\u001b[0morden\u001b[0m\u001b[1;33m)\u001b[0m\u001b[1;33m\u001b[0m\u001b[0m\n\u001b[0;32m      9\u001b[0m         \u001b[0mcb\u001b[0m \u001b[1;33m=\u001b[0m \u001b[0mLC\u001b[0m\u001b[1;33m(\u001b[0m\u001b[0mg\u001b[0m\u001b[1;33m,\u001b[0m\u001b[0morder\u001b[0m\u001b[1;33m=\u001b[0m\u001b[0morden\u001b[0m\u001b[1;33m)\u001b[0m\u001b[1;33m\u001b[0m\u001b[0m\n",
      "\u001b[1;32m/home/kirtash/anaconda3/lib/python3.5/site-packages/sympy/polys/polytools.py\u001b[0m in \u001b[0;36mLC\u001b[1;34m(f, *gens, **args)\u001b[0m\n\u001b[0;32m   4308\u001b[0m         \u001b[0mF\u001b[0m\u001b[1;33m,\u001b[0m \u001b[0mopt\u001b[0m \u001b[1;33m=\u001b[0m \u001b[0mpoly_from_expr\u001b[0m\u001b[1;33m(\u001b[0m\u001b[0mf\u001b[0m\u001b[1;33m,\u001b[0m \u001b[1;33m*\u001b[0m\u001b[0mgens\u001b[0m\u001b[1;33m,\u001b[0m \u001b[1;33m**\u001b[0m\u001b[0margs\u001b[0m\u001b[1;33m)\u001b[0m\u001b[1;33m\u001b[0m\u001b[0m\n\u001b[0;32m   4309\u001b[0m     \u001b[1;32mexcept\u001b[0m \u001b[0mPolificationFailed\u001b[0m \u001b[1;32mas\u001b[0m \u001b[0mexc\u001b[0m\u001b[1;33m:\u001b[0m\u001b[1;33m\u001b[0m\u001b[0m\n\u001b[1;32m-> 4310\u001b[1;33m         \u001b[1;32mraise\u001b[0m \u001b[0mComputationFailed\u001b[0m\u001b[1;33m(\u001b[0m\u001b[1;34m'LC'\u001b[0m\u001b[1;33m,\u001b[0m \u001b[1;36m1\u001b[0m\u001b[1;33m,\u001b[0m \u001b[0mexc\u001b[0m\u001b[1;33m)\u001b[0m\u001b[1;33m\u001b[0m\u001b[0m\n\u001b[0m\u001b[0;32m   4311\u001b[0m \u001b[1;33m\u001b[0m\u001b[0m\n\u001b[0;32m   4312\u001b[0m     \u001b[1;32mreturn\u001b[0m \u001b[0mF\u001b[0m\u001b[1;33m.\u001b[0m\u001b[0mLC\u001b[0m\u001b[1;33m(\u001b[0m\u001b[0morder\u001b[0m\u001b[1;33m=\u001b[0m\u001b[0mopt\u001b[0m\u001b[1;33m.\u001b[0m\u001b[0morder\u001b[0m\u001b[1;33m)\u001b[0m\u001b[1;33m\u001b[0m\u001b[0m\n",
      "\u001b[1;31mComputationFailed\u001b[0m: LC(1) failed without generators"
     ]
    }
   ],
   "source": [
    "DivFamilia(a**2 + 2*b**3 - 4*b + 1,[a*b**2 - 2*a - b**2 + 2, a**2*b - a**2 + b - 1, -a**2 - 2*b**2 + 3],'lex')"
   ]
  },
  {
   "cell_type": "code",
   "execution_count": 136,
   "metadata": {
    "collapsed": false
   },
   "outputs": [],
   "source": [
    "# Esta función calcula una base de Gröbner a partir de una familia de polinomios.\n",
    "def Grobner(fam,orden):\n",
    "    familia = [fam[i] for i in range(len(fam))]\n",
    "    continuar = True\n",
    "    k=0\n",
    "    while(continuar and k<10):\n",
    "        k = k+1\n",
    "        continuar = False\n",
    "        n = len(familia)\n",
    "        for i in range(n):\n",
    "            for j in range (i+1,n):\n",
    "                sp = Spolinomio(familia[i],familia[j],orden)\n",
    "                print('sp inicio = ',sp)\n",
    "                print('familia = ',familia)\n",
    "                sp = DivFamilia(sp,familia,orden)\n",
    "                print('sp fin = ',sp)\n",
    "                if(sp != 0):\n",
    "                    familia.append(sp)\n",
    "                    continuar = True\n",
    "    print(k)\n",
    "    return(familia)"
   ]
  },
  {
   "cell_type": "code",
   "execution_count": 138,
   "metadata": {
    "collapsed": false
   },
   "outputs": [
    {
     "name": "stdout",
     "output_type": "stream",
     "text": [
      "sp inicio =  a**2*b - 2*a**2 - a*b**2 + 2*a - b**2 + b\n",
      "familia =  [a*b**2 - 2*a - b**2 + 2, a**2*b - a**2 + b - 1]\n",
      "sp fin =  -a**2 - 2*b**2 + 3\n",
      "sp inicio =  a**2*b - 2*a**2 - a*b**2 + 2*a - b**2 + b\n",
      "familia =  [a*b**2 - 2*a - b**2 + 2, a**2*b - a**2 + b - 1, -a**2 - 2*b**2 + 3]\n",
      "sp fin =  0\n",
      "sp inicio =  2*a**2 + a*b**2 - 2*a + 2*b**4 - 3*b**2\n",
      "familia =  [a*b**2 - 2*a - b**2 + 2, a**2*b - a**2 + b - 1, -a**2 - 2*b**2 + 3]\n",
      "sp fin =  0\n",
      "sp inicio =  a**2 + 2*b**3 - 4*b + 1\n",
      "familia =  [a*b**2 - 2*a - b**2 + 2, a**2*b - a**2 + b - 1, -a**2 - 2*b**2 + 3]\n"
     ]
    },
    {
     "ename": "ComputationFailed",
     "evalue": "LC(1) failed without generators",
     "output_type": "error",
     "traceback": [
      "\u001b[1;31m---------------------------------------------------------------------------\u001b[0m",
      "\u001b[1;31mGeneratorsNeeded\u001b[0m                          Traceback (most recent call last)",
      "\u001b[1;32m/home/kirtash/anaconda3/lib/python3.5/site-packages/sympy/polys/polytools.py\u001b[0m in \u001b[0;36m_poly_from_expr\u001b[1;34m(expr, opt)\u001b[0m\n\u001b[0;32m   4099\u001b[0m     \u001b[1;32mtry\u001b[0m\u001b[1;33m:\u001b[0m\u001b[1;33m\u001b[0m\u001b[0m\n\u001b[1;32m-> 4100\u001b[1;33m         \u001b[0mrep\u001b[0m\u001b[1;33m,\u001b[0m \u001b[0mopt\u001b[0m \u001b[1;33m=\u001b[0m \u001b[0m_dict_from_expr\u001b[0m\u001b[1;33m(\u001b[0m\u001b[0mexpr\u001b[0m\u001b[1;33m,\u001b[0m \u001b[0mopt\u001b[0m\u001b[1;33m)\u001b[0m\u001b[1;33m\u001b[0m\u001b[0m\n\u001b[0m\u001b[0;32m   4101\u001b[0m     \u001b[1;32mexcept\u001b[0m \u001b[0mGeneratorsNeeded\u001b[0m\u001b[1;33m:\u001b[0m\u001b[1;33m\u001b[0m\u001b[0m\n",
      "\u001b[1;32m/home/kirtash/anaconda3/lib/python3.5/site-packages/sympy/polys/polyutils.py\u001b[0m in \u001b[0;36m_dict_from_expr\u001b[1;34m(expr, opt)\u001b[0m\n\u001b[0;32m    331\u001b[0m     \u001b[1;32melse\u001b[0m\u001b[1;33m:\u001b[0m\u001b[1;33m\u001b[0m\u001b[0m\n\u001b[1;32m--> 332\u001b[1;33m         \u001b[0mrep\u001b[0m\u001b[1;33m,\u001b[0m \u001b[0mgens\u001b[0m \u001b[1;33m=\u001b[0m \u001b[0m_dict_from_expr_no_gens\u001b[0m\u001b[1;33m(\u001b[0m\u001b[0mexpr\u001b[0m\u001b[1;33m,\u001b[0m \u001b[0mopt\u001b[0m\u001b[1;33m)\u001b[0m\u001b[1;33m\u001b[0m\u001b[0m\n\u001b[0m\u001b[0;32m    333\u001b[0m \u001b[1;33m\u001b[0m\u001b[0m\n",
      "\u001b[1;32m/home/kirtash/anaconda3/lib/python3.5/site-packages/sympy/polys/polyutils.py\u001b[0m in \u001b[0;36m_dict_from_expr_no_gens\u001b[1;34m(expr, opt)\u001b[0m\n\u001b[0;32m    276\u001b[0m     \u001b[1;34m\"\"\"Transform an expression into a multinomial form and figure out generators. \"\"\"\u001b[0m\u001b[1;33m\u001b[0m\u001b[0m\n\u001b[1;32m--> 277\u001b[1;33m     \u001b[1;33m(\u001b[0m\u001b[0mpoly\u001b[0m\u001b[1;33m,\u001b[0m\u001b[1;33m)\u001b[0m\u001b[1;33m,\u001b[0m \u001b[0mgens\u001b[0m \u001b[1;33m=\u001b[0m \u001b[0m_parallel_dict_from_expr_no_gens\u001b[0m\u001b[1;33m(\u001b[0m\u001b[1;33m(\u001b[0m\u001b[0mexpr\u001b[0m\u001b[1;33m,\u001b[0m\u001b[1;33m)\u001b[0m\u001b[1;33m,\u001b[0m \u001b[0mopt\u001b[0m\u001b[1;33m)\u001b[0m\u001b[1;33m\u001b[0m\u001b[0m\n\u001b[0m\u001b[0;32m    278\u001b[0m     \u001b[1;32mreturn\u001b[0m \u001b[0mpoly\u001b[0m\u001b[1;33m,\u001b[0m \u001b[0mgens\u001b[0m\u001b[1;33m\u001b[0m\u001b[0m\n",
      "\u001b[1;32m/home/kirtash/anaconda3/lib/python3.5/site-packages/sympy/polys/polyutils.py\u001b[0m in \u001b[0;36m_parallel_dict_from_expr_no_gens\u001b[1;34m(exprs, opt)\u001b[0m\n\u001b[0;32m    237\u001b[0m \u001b[1;33m\u001b[0m\u001b[0m\n\u001b[1;32m--> 238\u001b[1;33m         \u001b[1;32mraise\u001b[0m \u001b[0mGeneratorsNeeded\u001b[0m\u001b[1;33m(\u001b[0m\u001b[1;34m\"specify generators to give %s a meaning\"\u001b[0m \u001b[1;33m%\u001b[0m \u001b[0marg\u001b[0m\u001b[1;33m)\u001b[0m\u001b[1;33m\u001b[0m\u001b[0m\n\u001b[0m\u001b[0;32m    239\u001b[0m \u001b[1;33m\u001b[0m\u001b[0m\n",
      "\u001b[1;31mGeneratorsNeeded\u001b[0m: specify generators to give 1 a meaning",
      "\nDuring handling of the above exception, another exception occurred:\n",
      "\u001b[1;31mPolificationFailed\u001b[0m                        Traceback (most recent call last)",
      "\u001b[1;32m/home/kirtash/anaconda3/lib/python3.5/site-packages/sympy/polys/polytools.py\u001b[0m in \u001b[0;36mLC\u001b[1;34m(f, *gens, **args)\u001b[0m\n\u001b[0;32m   4307\u001b[0m     \u001b[1;32mtry\u001b[0m\u001b[1;33m:\u001b[0m\u001b[1;33m\u001b[0m\u001b[0m\n\u001b[1;32m-> 4308\u001b[1;33m         \u001b[0mF\u001b[0m\u001b[1;33m,\u001b[0m \u001b[0mopt\u001b[0m \u001b[1;33m=\u001b[0m \u001b[0mpoly_from_expr\u001b[0m\u001b[1;33m(\u001b[0m\u001b[0mf\u001b[0m\u001b[1;33m,\u001b[0m \u001b[1;33m*\u001b[0m\u001b[0mgens\u001b[0m\u001b[1;33m,\u001b[0m \u001b[1;33m**\u001b[0m\u001b[0margs\u001b[0m\u001b[1;33m)\u001b[0m\u001b[1;33m\u001b[0m\u001b[0m\n\u001b[0m\u001b[0;32m   4309\u001b[0m     \u001b[1;32mexcept\u001b[0m \u001b[0mPolificationFailed\u001b[0m \u001b[1;32mas\u001b[0m \u001b[0mexc\u001b[0m\u001b[1;33m:\u001b[0m\u001b[1;33m\u001b[0m\u001b[0m\n",
      "\u001b[1;32m/home/kirtash/anaconda3/lib/python3.5/site-packages/sympy/polys/polytools.py\u001b[0m in \u001b[0;36mpoly_from_expr\u001b[1;34m(expr, *gens, **args)\u001b[0m\n\u001b[0;32m   4076\u001b[0m     \u001b[0mopt\u001b[0m \u001b[1;33m=\u001b[0m \u001b[0moptions\u001b[0m\u001b[1;33m.\u001b[0m\u001b[0mbuild_options\u001b[0m\u001b[1;33m(\u001b[0m\u001b[0mgens\u001b[0m\u001b[1;33m,\u001b[0m \u001b[0margs\u001b[0m\u001b[1;33m)\u001b[0m\u001b[1;33m\u001b[0m\u001b[0m\n\u001b[1;32m-> 4077\u001b[1;33m     \u001b[1;32mreturn\u001b[0m \u001b[0m_poly_from_expr\u001b[0m\u001b[1;33m(\u001b[0m\u001b[0mexpr\u001b[0m\u001b[1;33m,\u001b[0m \u001b[0mopt\u001b[0m\u001b[1;33m)\u001b[0m\u001b[1;33m\u001b[0m\u001b[0m\n\u001b[0m\u001b[0;32m   4078\u001b[0m \u001b[1;33m\u001b[0m\u001b[0m\n",
      "\u001b[1;32m/home/kirtash/anaconda3/lib/python3.5/site-packages/sympy/polys/polytools.py\u001b[0m in \u001b[0;36m_poly_from_expr\u001b[1;34m(expr, opt)\u001b[0m\n\u001b[0;32m   4101\u001b[0m     \u001b[1;32mexcept\u001b[0m \u001b[0mGeneratorsNeeded\u001b[0m\u001b[1;33m:\u001b[0m\u001b[1;33m\u001b[0m\u001b[0m\n\u001b[1;32m-> 4102\u001b[1;33m         \u001b[1;32mraise\u001b[0m \u001b[0mPolificationFailed\u001b[0m\u001b[1;33m(\u001b[0m\u001b[0mopt\u001b[0m\u001b[1;33m,\u001b[0m \u001b[0morig\u001b[0m\u001b[1;33m,\u001b[0m \u001b[0mexpr\u001b[0m\u001b[1;33m)\u001b[0m\u001b[1;33m\u001b[0m\u001b[0m\n\u001b[0m\u001b[0;32m   4103\u001b[0m \u001b[1;33m\u001b[0m\u001b[0m\n",
      "\u001b[1;31mPolificationFailed\u001b[0m: can't construct a polynomial from 1",
      "\nDuring handling of the above exception, another exception occurred:\n",
      "\u001b[1;31mComputationFailed\u001b[0m                         Traceback (most recent call last)",
      "\u001b[1;32m<ipython-input-138-ee1fd9b34016>\u001b[0m in \u001b[0;36m<module>\u001b[1;34m()\u001b[0m\n\u001b[1;32m----> 1\u001b[1;33m \u001b[0mGrobner\u001b[0m\u001b[1;33m(\u001b[0m\u001b[1;33m[\u001b[0m\u001b[0ma\u001b[0m\u001b[1;33m*\u001b[0m\u001b[0mb\u001b[0m\u001b[1;33m**\u001b[0m\u001b[1;36m2\u001b[0m\u001b[1;33m-\u001b[0m\u001b[1;36m2\u001b[0m\u001b[1;33m*\u001b[0m\u001b[0ma\u001b[0m\u001b[1;33m-\u001b[0m\u001b[0mb\u001b[0m\u001b[1;33m**\u001b[0m\u001b[1;36m2\u001b[0m\u001b[1;33m+\u001b[0m\u001b[1;36m2\u001b[0m\u001b[1;33m,\u001b[0m\u001b[0ma\u001b[0m\u001b[1;33m**\u001b[0m\u001b[1;36m2\u001b[0m\u001b[1;33m*\u001b[0m\u001b[0mb\u001b[0m\u001b[1;33m-\u001b[0m\u001b[0ma\u001b[0m\u001b[1;33m**\u001b[0m\u001b[1;36m2\u001b[0m\u001b[1;33m+\u001b[0m\u001b[0mb\u001b[0m\u001b[1;33m-\u001b[0m\u001b[1;36m1\u001b[0m\u001b[1;33m]\u001b[0m\u001b[1;33m,\u001b[0m\u001b[1;34m'lex'\u001b[0m\u001b[1;33m)\u001b[0m\u001b[1;33m\u001b[0m\u001b[0m\n\u001b[0m",
      "\u001b[1;32m<ipython-input-136-5e087aeb3908>\u001b[0m in \u001b[0;36mGrobner\u001b[1;34m(fam, orden)\u001b[0m\n\u001b[0;32m     13\u001b[0m                 \u001b[0mprint\u001b[0m\u001b[1;33m(\u001b[0m\u001b[1;34m'sp inicio = '\u001b[0m\u001b[1;33m,\u001b[0m\u001b[0msp\u001b[0m\u001b[1;33m)\u001b[0m\u001b[1;33m\u001b[0m\u001b[0m\n\u001b[0;32m     14\u001b[0m                 \u001b[0mprint\u001b[0m\u001b[1;33m(\u001b[0m\u001b[1;34m'familia = '\u001b[0m\u001b[1;33m,\u001b[0m\u001b[0mfamilia\u001b[0m\u001b[1;33m)\u001b[0m\u001b[1;33m\u001b[0m\u001b[0m\n\u001b[1;32m---> 15\u001b[1;33m                 \u001b[0msp\u001b[0m \u001b[1;33m=\u001b[0m \u001b[0mDivFamilia\u001b[0m\u001b[1;33m(\u001b[0m\u001b[0msp\u001b[0m\u001b[1;33m,\u001b[0m\u001b[0mfamilia\u001b[0m\u001b[1;33m,\u001b[0m\u001b[0morden\u001b[0m\u001b[1;33m)\u001b[0m\u001b[1;33m\u001b[0m\u001b[0m\n\u001b[0m\u001b[0;32m     16\u001b[0m                 \u001b[0mprint\u001b[0m\u001b[1;33m(\u001b[0m\u001b[1;34m'sp fin = '\u001b[0m\u001b[1;33m,\u001b[0m\u001b[0msp\u001b[0m\u001b[1;33m)\u001b[0m\u001b[1;33m\u001b[0m\u001b[0m\n\u001b[0;32m     17\u001b[0m                 \u001b[1;32mif\u001b[0m\u001b[1;33m(\u001b[0m\u001b[0msp\u001b[0m \u001b[1;33m!=\u001b[0m \u001b[1;36m0\u001b[0m\u001b[1;33m)\u001b[0m\u001b[1;33m:\u001b[0m\u001b[1;33m\u001b[0m\u001b[0m\n",
      "\u001b[1;32m<ipython-input-133-79548d9430e6>\u001b[0m in \u001b[0;36mDivFamilia\u001b[1;34m(polinomio, familia, orden)\u001b[0m\n\u001b[0;32m      8\u001b[0m     \u001b[1;32mfor\u001b[0m \u001b[0mi\u001b[0m \u001b[1;32min\u001b[0m \u001b[0mrange\u001b[0m\u001b[1;33m(\u001b[0m\u001b[0mn\u001b[0m\u001b[1;33m)\u001b[0m\u001b[1;33m:\u001b[0m\u001b[1;33m\u001b[0m\u001b[0m\n\u001b[0;32m      9\u001b[0m         \u001b[1;32mif\u001b[0m\u001b[1;33m(\u001b[0m\u001b[0mpol\u001b[0m \u001b[1;33m!=\u001b[0m \u001b[1;36m0\u001b[0m\u001b[1;33m)\u001b[0m\u001b[1;33m:\u001b[0m\u001b[1;33m\u001b[0m\u001b[0m\n\u001b[1;32m---> 10\u001b[1;33m             \u001b[0mpol\u001b[0m\u001b[1;33m=\u001b[0m\u001b[0mDivF\u001b[0m\u001b[1;33m(\u001b[0m\u001b[0mpol\u001b[0m\u001b[1;33m,\u001b[0m\u001b[0mfam\u001b[0m\u001b[1;33m[\u001b[0m\u001b[0mi\u001b[0m\u001b[1;33m]\u001b[0m\u001b[1;33m,\u001b[0m\u001b[0morden\u001b[0m\u001b[1;33m)\u001b[0m\u001b[1;33m\u001b[0m\u001b[0m\n\u001b[0m\u001b[0;32m     11\u001b[0m     \u001b[1;32mreturn\u001b[0m\u001b[1;33m(\u001b[0m\u001b[0mpol\u001b[0m\u001b[1;33m)\u001b[0m\u001b[1;33m\u001b[0m\u001b[0m\n",
      "\u001b[1;32m<ipython-input-92-6582a039f042>\u001b[0m in \u001b[0;36mDivF\u001b[1;34m(faux, gaux, orden)\u001b[0m\n\u001b[0;32m      5\u001b[0m     \u001b[0mg\u001b[0m \u001b[1;33m=\u001b[0m \u001b[0mgaux\u001b[0m\u001b[1;33m\u001b[0m\u001b[0m\n\u001b[0;32m      6\u001b[0m     \u001b[1;32mwhile\u001b[0m\u001b[1;33m(\u001b[0m\u001b[0mcontinuar\u001b[0m\u001b[1;33m)\u001b[0m\u001b[1;33m:\u001b[0m\u001b[1;33m\u001b[0m\u001b[0m\n\u001b[1;32m----> 7\u001b[1;33m         \u001b[0mca\u001b[0m \u001b[1;33m=\u001b[0m \u001b[0mLC\u001b[0m\u001b[1;33m(\u001b[0m\u001b[0mf\u001b[0m\u001b[1;33m,\u001b[0m\u001b[0morder\u001b[0m\u001b[1;33m=\u001b[0m\u001b[0morden\u001b[0m\u001b[1;33m)\u001b[0m\u001b[1;33m\u001b[0m\u001b[0m\n\u001b[0m\u001b[0;32m      8\u001b[0m         \u001b[0mxa\u001b[0m \u001b[1;33m=\u001b[0m \u001b[0mLM\u001b[0m\u001b[1;33m(\u001b[0m\u001b[0mf\u001b[0m\u001b[1;33m,\u001b[0m\u001b[0morder\u001b[0m\u001b[1;33m=\u001b[0m\u001b[0morden\u001b[0m\u001b[1;33m)\u001b[0m\u001b[1;33m\u001b[0m\u001b[0m\n\u001b[0;32m      9\u001b[0m         \u001b[0mcb\u001b[0m \u001b[1;33m=\u001b[0m \u001b[0mLC\u001b[0m\u001b[1;33m(\u001b[0m\u001b[0mg\u001b[0m\u001b[1;33m,\u001b[0m\u001b[0morder\u001b[0m\u001b[1;33m=\u001b[0m\u001b[0morden\u001b[0m\u001b[1;33m)\u001b[0m\u001b[1;33m\u001b[0m\u001b[0m\n",
      "\u001b[1;32m/home/kirtash/anaconda3/lib/python3.5/site-packages/sympy/polys/polytools.py\u001b[0m in \u001b[0;36mLC\u001b[1;34m(f, *gens, **args)\u001b[0m\n\u001b[0;32m   4308\u001b[0m         \u001b[0mF\u001b[0m\u001b[1;33m,\u001b[0m \u001b[0mopt\u001b[0m \u001b[1;33m=\u001b[0m \u001b[0mpoly_from_expr\u001b[0m\u001b[1;33m(\u001b[0m\u001b[0mf\u001b[0m\u001b[1;33m,\u001b[0m \u001b[1;33m*\u001b[0m\u001b[0mgens\u001b[0m\u001b[1;33m,\u001b[0m \u001b[1;33m**\u001b[0m\u001b[0margs\u001b[0m\u001b[1;33m)\u001b[0m\u001b[1;33m\u001b[0m\u001b[0m\n\u001b[0;32m   4309\u001b[0m     \u001b[1;32mexcept\u001b[0m \u001b[0mPolificationFailed\u001b[0m \u001b[1;32mas\u001b[0m \u001b[0mexc\u001b[0m\u001b[1;33m:\u001b[0m\u001b[1;33m\u001b[0m\u001b[0m\n\u001b[1;32m-> 4310\u001b[1;33m         \u001b[1;32mraise\u001b[0m \u001b[0mComputationFailed\u001b[0m\u001b[1;33m(\u001b[0m\u001b[1;34m'LC'\u001b[0m\u001b[1;33m,\u001b[0m \u001b[1;36m1\u001b[0m\u001b[1;33m,\u001b[0m \u001b[0mexc\u001b[0m\u001b[1;33m)\u001b[0m\u001b[1;33m\u001b[0m\u001b[0m\n\u001b[0m\u001b[0;32m   4311\u001b[0m \u001b[1;33m\u001b[0m\u001b[0m\n\u001b[0;32m   4312\u001b[0m     \u001b[1;32mreturn\u001b[0m \u001b[0mF\u001b[0m\u001b[1;33m.\u001b[0m\u001b[0mLC\u001b[0m\u001b[1;33m(\u001b[0m\u001b[0morder\u001b[0m\u001b[1;33m=\u001b[0m\u001b[0mopt\u001b[0m\u001b[1;33m.\u001b[0m\u001b[0morder\u001b[0m\u001b[1;33m)\u001b[0m\u001b[1;33m\u001b[0m\u001b[0m\n",
      "\u001b[1;31mComputationFailed\u001b[0m: LC(1) failed without generators"
     ]
    }
   ],
   "source": [
    "Grobner([a*b**2-2*a-b**2+2,a**2*b-a**2+b-1],'lex')"
   ]
  },
  {
   "cell_type": "markdown",
   "metadata": {},
   "source": [
    "**6. Fijado el orden lexicográfico con $x>y>z>t$, calcular la base de Gröber reducida de**\n",
    "$$\\{x^2z-2x^2-z+2,xy^3-x,t^2y^4x^3-t^2y^4-16x^3+16\\}$$\n",
    "**respecto a dicho orden.**"
   ]
  },
  {
   "cell_type": "markdown",
   "metadata": {},
   "source": [
    "**7. Fijado el orden lexicográfico gradudado con $x>y>z>t$, calcular la base de Gröber reducida de**\n",
    "$$\\{x^2z-2x^2-z+2,xy^3-x,t^2y^4x^3-t^2y^4-16x^3+16\\}$$\n",
    "**respecto a dicho orden.**"
   ]
  },
  {
   "cell_type": "markdown",
   "metadata": {},
   "source": [
    "**8. ¿Cuántas soluciones tiene el sistema**\n",
    "$$\\{x^2y-2x^2-y+2=0,$$\n",
    "$$txz^3-tx-3tz^3+3t=0,$$\n",
    "$$ty^4-16t=0\\}?$$"
   ]
  },
  {
   "cell_type": "markdown",
   "metadata": {},
   "source": [
    "**9. ¿Cuántas soluciones tiene el sistema**\n",
    "$$\\{x^2zy+2x^2-zy-2=0,$$\n",
    "$$z^3xy-3z^3-2xy+6=0,$$\n",
    "$$y^4-16=0\\}?$$"
   ]
  },
  {
   "cell_type": "markdown",
   "metadata": {},
   "source": [
    "**10. ¿Cuántas soluciones tiene el sistema**\n",
    "$$\\{x^2zy+2x^2-zy-2=0,$$\n",
    "$$z^2xy-3z^2-xy+3=0,$$\n",
    "$$y^2-16=0\\}?$$"
   ]
  },
  {
   "cell_type": "markdown",
   "metadata": {},
   "source": [
    "**11. En el ideal generado por**\n",
    "$$\\{x^2zy+2x^2-zy-2,z^3xy-3z^3-2xy+6,y^4-16\\},$$\n",
    "**¿hay algún polinoio sólo en la variable $x$?**"
   ]
  },
  {
   "cell_type": "markdown",
   "metadata": {},
   "source": [
    "**12. En el ideal generado por**\n",
    "$$x^2y-2x^2-y+2,txz^3-tx+3tz^3+3t,ty^4-16t\\},$$\n",
    "**¿hay algún polinomio sólo en la variable $t$?**"
   ]
  },
  {
   "cell_type": "markdown",
   "metadata": {},
   "source": [
    "**13. Resolver el sistema**\n",
    "$$\\{x^2zy+2x^2-zy-2=0,$$\n",
    "$$z^2xy-3z^2-xy+3=0,$$\n",
    "$$y^2-16=0\\}.$$"
   ]
  }
 ],
 "metadata": {
  "kernelspec": {
   "display_name": "Python 3",
   "language": "python",
   "name": "python3"
  },
  "language_info": {
   "codemirror_mode": {
    "name": "ipython",
    "version": 3
   },
   "file_extension": ".py",
   "mimetype": "text/x-python",
   "name": "python",
   "nbconvert_exporter": "python",
   "pygments_lexer": "ipython3",
   "version": "3.5.1"
  }
 },
 "nbformat": 4,
 "nbformat_minor": 2
}
